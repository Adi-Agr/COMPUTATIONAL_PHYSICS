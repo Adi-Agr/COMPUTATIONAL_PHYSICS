{
 "cells": [
  {
   "cell_type": "code",
   "execution_count": null,
   "id": "6c58fc15",
   "metadata": {},
   "outputs": [
    {
     "name": "stdout",
     "output_type": "stream",
     "text": [
      "\n"
     ]
    }
   ],
   "source": [
    "'''\n",
    "NAME: ADITYA AGRAWAL\n",
    "ROLL: 2311010\n",
    "ASSIGN8: LAGUERRE's METHOD\n",
    "DATE-11/09/2025\n",
    "'''\n",
    "()\n"
   ]
  },
  {
   "cell_type": "code",
   "execution_count": null,
   "id": "47bb7ba2",
   "metadata": {},
   "outputs": [],
   "source": [
    "import sys\n",
    "import numpy as np\n",
    "import matplotlib.pyplot as plt\n",
    "\n",
    "sys.path.append('c:/Users/mayur/ClonedGitRepo/COMPUTATIONAL_PHYSICS/LABWORK')\n",
    "\n",
    "import adilib_class as ad\n",
    "import math"
   ]
  },
  {
   "cell_type": "code",
   "execution_count": 3,
   "id": "24fcf8fd",
   "metadata": {},
   "outputs": [
    {
     "name": "stdout",
     "output_type": "stream",
     "text": [
      "3\n",
      "2\n",
      "2\n",
      "4.0\n",
      "8.0\n",
      "3\n",
      "1.0\n",
      "1.0\n",
      "2.0\n"
     ]
    }
   ],
   "source": [
    "import math\n",
    "print(math.ceil(2.5))\n",
    "print(math.floor(2.5))\n",
    "print(math.trunc(2.5))\n",
    "print(math.sqrt(16))\n",
    "print(math.pow(2, 3))\n",
    "print(math.gcd(12, 15))\n",
    "print(math.sin(math.pi / 2))\n",
    "print(math.cos(0))\n",
    "print(math.log(100, 10))"
   ]
  },
  {
   "cell_type": "code",
   "execution_count": 37,
   "id": "ce599a18",
   "metadata": {},
   "outputs": [],
   "source": [
    "def midpoint_integration(l, L, f, N=10000):\n",
    "    h=(L-l)/N\n",
    "    integral=0\n",
    "    for i in range(N):\n",
    "        integral+=f(l+(i+0.5)*h)\n",
    "    integral*=h\n",
    "    return integral\n"
   ]
  },
  {
   "cell_type": "code",
   "execution_count": 38,
   "id": "104bd26b",
   "metadata": {},
   "outputs": [],
   "source": [
    "def trapezoidal_integration(l, L, f, N=10000):\n",
    "    h=(L-l)/N\n",
    "    integral=0.5*(f(l)+f(L))\n",
    "    for i in range(1, N):\n",
    "        integral+=f(l+i*h)\n",
    "    integral*=h\n",
    "    return integral"
   ]
  },
  {
   "cell_type": "code",
   "execution_count": 46,
   "id": "4771bfee",
   "metadata": {},
   "outputs": [
    {
     "name": "stdout",
     "output_type": "stream",
     "text": [
      "--> function : midpoint_integration , trapezoidal_integration\n",
      "\n",
      "N=4\n",
      "--> 1/x : 0.6912198912198912 0.6970238095238095\n",
      "--> xcosx : 0.5874479167573121 0.5376071275673585\n",
      "--> xtaninversex : 0.2820460493571144 0.29209834589395167\n",
      "N=8\n",
      "--> 1/x : 0.6926605540432034 0.6941218503718504\n",
      "--> xcosx : 0.574934273382131 0.5625275221623354\n",
      "--> xtaninversex : 0.2845610193056679 0.28707219762553304\n",
      "N=15\n",
      "--> 1/x : 0.6930084263712957 0.6934248043580646\n",
      "--> xcosx : 0.5719716590967574 0.5684462350385163\n",
      "--> xtaninversex : 0.28516010270349235 0.2858742642174127\n",
      "N=20\n",
      "--> 1/x : 0.6930690982255869 0.693303381792694\n",
      "--> xcosx : 0.5714572867152206 0.569474588169518\n",
      "--> xtaninversex : 0.2852642601614453 0.285665963360493\n",
      "N=10000\n",
      "--> 1/x : 0.6931471802474457 0.6931471811849444\n",
      "--> xcosx : 0.5707963294378903 0.5707963215089064\n",
      "--> xtaninversex : 0.28539816286186537 0.2853981644686142\n"
     ]
    }
   ],
   "source": [
    "print(\"--> function : midpoint_integration , trapezoidal_integration\")\n",
    "print()\n",
    "for N in [4,8,15,20,10000]:\n",
    "    print(f\"N={N}\")\n",
    "    print(\"--> 1/x :\", (midpoint_integration(1, 2, f=lambda x: 1/x, N=N)), trapezoidal_integration(1, 2, f=lambda x: 1/x, N=N))\n",
    "    print(\"--> xcosx :\", (midpoint_integration(0, math.pi/2, f=lambda x: x*math.cos(x), N=N)), trapezoidal_integration(0, math.pi/2, f=lambda x: x*math.cos(x), N=N))\n",
    "    print(\"--> xtaninversex :\", (midpoint_integration(0, 1, f=lambda x: x*math.atan(x), N=N)), trapezoidal_integration(0, 1, f=lambda x: x*math.atan(x), N=N))\n",
    "\n",
    " "
   ]
  },
  {
   "cell_type": "code",
   "execution_count": null,
   "id": "13eb8fd5",
   "metadata": {},
   "outputs": [],
   "source": []
  }
 ],
 "metadata": {
  "kernelspec": {
   "display_name": "COMPUTATIONAL_PHYSICS",
   "language": "python",
   "name": "python3"
  },
  "language_info": {
   "codemirror_mode": {
    "name": "ipython",
    "version": 3
   },
   "file_extension": ".py",
   "mimetype": "text/x-python",
   "name": "python",
   "nbconvert_exporter": "python",
   "pygments_lexer": "ipython3",
   "version": "3.13.7"
  }
 },
 "nbformat": 4,
 "nbformat_minor": 5
}
