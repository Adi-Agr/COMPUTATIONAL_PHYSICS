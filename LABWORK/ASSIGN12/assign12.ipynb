{
 "cells": [
  {
   "cell_type": "code",
   "execution_count": 118,
   "id": "6c3754a4",
   "metadata": {},
   "outputs": [
    {
     "data": {
      "text/plain": [
       "'\\nNAME: ADITYA AGRAWAL\\nROLL: 2311010\\nASSIGN8: GAUSSIAN QUADRATURE\\nDATE-16/10/2025\\n'"
      ]
     },
     "execution_count": 118,
     "metadata": {},
     "output_type": "execute_result"
    }
   ],
   "source": [
    "'''\n",
    "NAME: ADITYA AGRAWAL\n",
    "ROLL: 2311010\n",
    "ASSIGN8: GAUSSIAN QUADRATURE\n",
    "DATE-16/10/2025\n",
    "'''\n"
   ]
  },
  {
   "cell_type": "code",
   "execution_count": 119,
   "id": "d03e1f5c",
   "metadata": {},
   "outputs": [],
   "source": [
    "import sys\n",
    "import numpy as np\n",
    "import matplotlib.pyplot as plt\n",
    "\n",
    "sys.path.append('c:/Users/mayur/ClonedGitRepo/COMPUTATIONAL_PHYSICS/LABWORK')\n",
    "\n",
    "import adilib_class as ad\n",
    "import math"
   ]
  },
  {
   "cell_type": "code",
   "execution_count": null,
   "id": "6adc6371",
   "metadata": {},
   "outputs": [
    {
     "name": "stdout",
     "output_type": "stream",
     "text": [
      "The value of the integral using Gaussian Quadrature is: (np.float64(0.48749549425855665), 14)\n"
     ]
    }
   ],
   "source": [
    "f1=lambda x: (x**2)/(1+x**4)\n",
    "\n",
    "print(\"The value of the integral using Gaussian Quadrature is:\", ad.Integration.gaussian_quadrature(f1,-1,1,.487495494))"
   ]
  },
  {
   "cell_type": "code",
   "execution_count": null,
   "id": "a0a211ea",
   "metadata": {},
   "outputs": [
    {
     "name": "stdout",
     "output_type": "stream",
     "text": [
      "Using Simpson:\n",
      " 1.089429413076862\n",
      "Using Gaussian Quadrature:\n",
      " (np.float64(1.0894294131091897), 8)\n"
     ]
    }
   ],
   "source": [
    "#QUESTION 2:(using simpsons method)\n",
    "\n",
    "f2 = lambda x: (1 + x**4)**0.5\n",
    "# call using keyword arguments to match the function signature (avoid argument-order mismatch)\n",
    "print(\"Using Simpson:\\n\", ad.Integration.simpson(l=0, L=1, f=f2, N=24))\n",
    "print(\"Using Gaussian Quadrature:\\n\", ad.Integration.gaussian_quadrature(f2, 0, 1, exact_value=1.089429413))\n"
   ]
  },
  {
   "cell_type": "code",
   "execution_count": null,
   "id": "3f3bdc79",
   "metadata": {},
   "outputs": [],
   "source": []
  }
 ],
 "metadata": {
  "kernelspec": {
   "display_name": "COMPUTATIONAL_PHYSICS",
   "language": "python",
   "name": "python3"
  },
  "language_info": {
   "codemirror_mode": {
    "name": "ipython",
    "version": 3
   },
   "file_extension": ".py",
   "mimetype": "text/x-python",
   "name": "python",
   "nbconvert_exporter": "python",
   "pygments_lexer": "ipython3",
   "version": "3.13.9"
  }
 },
 "nbformat": 4,
 "nbformat_minor": 5
}
