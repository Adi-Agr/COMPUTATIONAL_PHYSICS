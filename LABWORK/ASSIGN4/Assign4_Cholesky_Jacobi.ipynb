{
 "cells": [
  {
   "cell_type": "code",
   "execution_count": 8,
   "id": "d6302c71",
   "metadata": {},
   "outputs": [
    {
     "data": {
      "text/plain": [
       "'\\nNAME: ADITYA AGRAWAL\\nROLL: 2311010\\nASSIGNMENT4: Cholesky & Jacobi\\n'"
      ]
     },
     "execution_count": 8,
     "metadata": {},
     "output_type": "execute_result"
    }
   ],
   "source": [
    "'''\n",
    "NAME: ADITYA AGRAWAL\n",
    "ROLL: 2311010\n",
    "ASSIGNMENT4: Cholesky & Jacobi\n",
    "'''"
   ]
  },
  {
   "cell_type": "code",
   "execution_count": 9,
   "id": "58ac8c0b",
   "metadata": {},
   "outputs": [],
   "source": [
    "import sys\n",
    "import numpy as np\n",
    "import matplotlib.pyplot as plt\n",
    "\n",
    "sys.path.append('C:/Users/agraw/Documents/GitHub/COMPUTATIONAL_PHYSICS/LABWORK')\n",
    "\n",
    "import adilib_main as ad"
   ]
  },
  {
   "cell_type": "code",
   "execution_count": 10,
   "id": "cd2ad475",
   "metadata": {},
   "outputs": [],
   "source": [
    "def cholesky_decomposition(matrix):\n",
    "    '''\n",
    "    Decomposes A = L*L^T (where L is lower triangular)\n",
    "    '''\n",
    "    n = len(matrix)\n",
    "    L = [[0.0]*n for _ in range(n)]\n",
    "    \n",
    "    for i in range(n):\n",
    "        # Diagonal elements\n",
    "        sum_val = 0.0\n",
    "        for k in range(i):\n",
    "            sum_val+=L[i][k] ** 2        \n",
    "        # Check if matrix is >0\n",
    "        if matrix[i][i]-sum_val<=0:\n",
    "            print(\"Matrix is not positive definite!\")\n",
    "            return None\n",
    "        #___________________________________            \n",
    "        L[i][i]=(matrix[i][i]-sum_val)**0.5\n",
    "        #___________________________________\n",
    "        # Non-diagonal elements\n",
    "        for j in range(i+1, n):\n",
    "            sum_val = 0.0\n",
    "            for k in range(i):\n",
    "                sum_val+=L[i][k]*L[j][k]            \n",
    "            L[j][i]=(matrix[j][i]-sum_val)/L[i][i]\n",
    "    \n",
    "    print(\"Cholesky decomposition successful\")\n",
    "    return L"
   ]
  },
  {
   "cell_type": "code",
   "execution_count": 11,
   "id": "586896e9",
   "metadata": {},
   "outputs": [],
   "source": [
    "def solve_by_cholesky(A, b):\n",
    "    '''Solve linear system A*x=b via Cholesky!!'''\n",
    "    # Get Cholesky factor L where A = L*L^T\n",
    "    L=ad.cholesky_decomposition(A)\n",
    "    if L is None:\n",
    "        return None\n",
    "    # Solve L*y=b for y\n",
    "    y=ad.forward_substitution(L, b)\n",
    "    # Solve L^T*x=y for x\n",
    "    x=ad.backward_substitution_transpose(L, y)\n",
    "    return x"
   ]
  },
  {
   "cell_type": "code",
   "execution_count": 12,
   "id": "ded97480",
   "metadata": {},
   "outputs": [
    {
     "name": "stdout",
     "output_type": "stream",
     "text": [
      "Matrix A:\n",
      "[4, 1, 1, 1]\n",
      "[1, 3, -1, 1]\n",
      "[1, -1, 2, 0]\n",
      "[1, 1, 0, 2]\n",
      "\n",
      "Vector b: [3, 3, 1, 3]\n",
      "\n",
      "--- Solving using Cholesky factorization ---\n",
      "Cholesky decomposition successful\n",
      "Forward Substitution: Solving L*y=B\n",
      "Y[0] = 1.500000\n",
      "Y[1] = 1.356801\n",
      "Y[2] = 1.170739\n",
      "Y[3] = 1.240347\n",
      "Backward Substitution: Solving L^T*x = y\n",
      "X[3] = 1.000000\n",
      "X[2] = 1.000000\n",
      "X[1] = 1.000000\n",
      "X[0] = 0.000000\n",
      "\n",
      "Solution x: ['0.000000', '1.000000', '1.000000', '1.000000']\n"
     ]
    }
   ],
   "source": [
    "# I Defined the matrix A and vector b from the assignment\n",
    "A = [\n",
    "    [4,1,1,1],\n",
    "    [1,3,-1,1],\n",
    "    [1,-1,2,0],\n",
    "    [1,1,0,2]\n",
    "]\n",
    "b = [3,3,1,3]\n",
    "print(\"Matrix A:\")\n",
    "for row in A:\n",
    "    print(row)\n",
    "print(\"\\nVector b:\", b)\n",
    "print(\"\\n--- Solving using Cholesky factorization ---\")\n",
    "x_cholesky=ad.solve_by_cholesky(A, b)\n",
    "print(\"\\nSolution x:\",[f\"{val:.6f}\" for val in x_cholesky])\n"
   ]
  },
  {
   "cell_type": "code",
   "execution_count": 13,
   "id": "e20d2ce3",
   "metadata": {},
   "outputs": [],
   "source": [
    "def jacobi_iteration(A,b,tol=1e-10,max_iter=1000):\n",
    "    '''\n",
    "    tol: tolerance for convergence\n",
    "    max_iter: maximum number of iterations\n",
    "    '''\n",
    "    n=len(A)\n",
    "    x=[0.0]*n  # Initial_guess x^(k)\n",
    "    x_new=[0.0]*n # x^(k+1)\n",
    "    iterations=0\n",
    "    error=float('inf')\n",
    "    #__________________________________\n",
    "    print(\"Jacobi Iteration Method\")\n",
    "    print(\"Iter\\t\",end=\"\")\n",
    "    for i in range(n):\n",
    "        print(f\"x[{i}]\\t\\t\",end=\"\")\n",
    "    print(\"Error\")\n",
    "    #__________________________________\n",
    "    print(f\"{iterations}\\t\", end=\"\")\n",
    "    for i in range(n):\n",
    "        print(f\"{x[i]:.6f}\\t\", end=\"\")\n",
    "    print(\"---\")\n",
    "    #__________________________________    \n",
    "    while error>tol and iterations<max_iter:\n",
    "        iterations+=1        \n",
    "        #__main__iteration__loop!\n",
    "        for i in range(n):\n",
    "            sum=0.0\n",
    "            for j in range(n):\n",
    "                if i!=j:\n",
    "                    sum+=A[i][j]*x[j]\n",
    "            x_new[i]=(b[i]-sum)/A[i][i]\n",
    "        #_______________________________\n",
    "        error = max(abs(x_new[i]-x[i]) for i in range(n))\n",
    "        #_______________________________\n",
    "        print(f\"{iterations}\\t\", end=\"\")\n",
    "        for i in range(n):\n",
    "            x[i] = x_new[i]     # updating x\n",
    "            print(f\"{x[i]:.6f}\\t\", end=\"\")\n",
    "        print(f\"{error:.8f}\")\n",
    "        #checking_if_converged\n",
    "        if error<=tol:\n",
    "            print(f\"\\nConverged after {iterations} iterations.\")\n",
    "            break\n",
    "    #_______________________________\n",
    "    if iterations>=max_iter:\n",
    "        print(f\"\\nFailed to converge after {max_iter} iterations.\")\n",
    "    #_______________________________\n",
    "    return x, iterations"
   ]
  },
  {
   "cell_type": "code",
   "execution_count": 14,
   "id": "2159986b",
   "metadata": {},
   "outputs": [
    {
     "name": "stdout",
     "output_type": "stream",
     "text": [
      "\n",
      "--- Solving using Jacobi Iteration ---\n",
      "Jacobi Iteration Method\n",
      "Iter\tx[0]\t\tx[1]\t\tx[2]\t\tx[3]\t\tError\n",
      "0\t0.000000\t0.000000\t0.000000\t0.000000\t---\n",
      "1\t0.750000\t1.000000\t0.500000\t1.500000\t1.50000000\n",
      "2\t0.000000\t0.416667\t0.625000\t0.625000\t0.87500000\n",
      "3\t0.333333\t1.000000\t0.708333\t1.291667\t0.66666667\n",
      "4\t0.000000\t0.694444\t0.833333\t0.833333\t0.45833333\n",
      "5\t0.159722\t1.000000\t0.847222\t1.152778\t0.31944444\n",
      "6\t0.000000\t0.844907\t0.920139\t0.920139\t0.23263889\n",
      "7\t0.078704\t1.000000\t0.922454\t1.077546\t0.15740741\n",
      "8\t0.000000\t0.922068\t0.960648\t0.960648\t0.11689815\n",
      "9\t0.039159\t1.000000\t0.961034\t1.038966\t0.07831790\n",
      "10\t0.000000\t0.960970\t0.980421\t0.980421\t0.05854552\n",
      "11\t0.019547\t1.000000\t0.980485\t1.019515\t0.03909465\n",
      "12\t0.000000\t0.980474\t0.990226\t0.990226\t0.02928884\n",
      "13\t0.009768\t1.000000\t0.990237\t1.009763\t0.01953661\n",
      "14\t0.000000\t0.990235\t0.995116\t0.995116\t0.01464710\n",
      "15\t0.004883\t1.000000\t0.995118\t1.004882\t0.00976652\n",
      "16\t0.000000\t0.995117\t0.997558\t0.997558\t0.00732400\n",
      "17\t0.002441\t1.000000\t0.997559\t1.002441\t0.00488296\n",
      "18\t0.000000\t0.997559\t0.998779\t0.998779\t0.00366207\n",
      "19\t0.001221\t1.000000\t0.998779\t1.001221\t0.00244143\n",
      "20\t0.000000\t0.998779\t0.999390\t0.999390\t0.00183105\n",
      "21\t0.000610\t1.000000\t0.999390\t1.000610\t0.00122071\n",
      "22\t0.000000\t0.999390\t0.999695\t0.999695\t0.00091553\n",
      "23\t0.000305\t1.000000\t0.999695\t1.000305\t0.00061035\n",
      "24\t0.000000\t0.999695\t0.999847\t0.999847\t0.00045776\n",
      "25\t0.000153\t1.000000\t0.999847\t1.000153\t0.00030518\n",
      "26\t0.000000\t0.999847\t0.999924\t0.999924\t0.00022888\n",
      "27\t0.000076\t1.000000\t0.999924\t1.000076\t0.00015259\n",
      "28\t0.000000\t0.999924\t0.999962\t0.999962\t0.00011444\n",
      "29\t0.000038\t1.000000\t0.999962\t1.000038\t0.00007629\n",
      "30\t0.000000\t0.999962\t0.999981\t0.999981\t0.00005722\n",
      "31\t0.000019\t1.000000\t0.999981\t1.000019\t0.00003815\n",
      "32\t0.000000\t0.999981\t0.999990\t0.999990\t0.00002861\n",
      "33\t0.000010\t1.000000\t0.999990\t1.000010\t0.00001907\n",
      "34\t0.000000\t0.999990\t0.999995\t0.999995\t0.00001431\n",
      "35\t0.000005\t1.000000\t0.999995\t1.000005\t0.00000954\n",
      "36\t0.000000\t0.999995\t0.999998\t0.999998\t0.00000715\n",
      "37\t0.000002\t1.000000\t0.999998\t1.000002\t0.00000477\n",
      "38\t0.000000\t0.999998\t0.999999\t0.999999\t0.00000358\n",
      "39\t0.000001\t1.000000\t0.999999\t1.000001\t0.00000238\n",
      "40\t0.000000\t0.999999\t0.999999\t0.999999\t0.00000179\n",
      "41\t0.000001\t1.000000\t0.999999\t1.000001\t0.00000119\n",
      "42\t0.000000\t0.999999\t1.000000\t1.000000\t0.00000089\n",
      "\n",
      "Converged after 42 iterations.\n",
      "\n",
      "Final solution x: ['0.000000', '0.999999', '1.000000', '1.000000']\n"
     ]
    }
   ],
   "source": [
    "# Display the solution using Jacobi method\n",
    "print(\"\\n--- Solving using Jacobi Iteration ---\")\n",
    "x_jacobi , iterations = ad.jacobi_iteration(A, b, tol=1e-6)\n",
    "print(\"\\nFinal solution x:\", [f\"{val:.6f}\" for val in x_jacobi])\n"
   ]
  },
  {
   "cell_type": "code",
   "execution_count": null,
   "id": "fe08ac93",
   "metadata": {},
   "outputs": [],
   "source": [
    "print(\"Done :\")\n",
    "print(\"This time I tried to add comment wherever needed...as pointed aout in private comments on Google Classroom.\")"
   ]
  }
 ],
 "metadata": {
  "kernelspec": {
   "display_name": ".venv",
   "language": "python",
   "name": "python3"
  },
  "language_info": {
   "codemirror_mode": {
    "name": "ipython",
    "version": 3
   },
   "file_extension": ".py",
   "mimetype": "text/x-python",
   "name": "python",
   "nbconvert_exporter": "python",
   "pygments_lexer": "ipython3",
   "version": "3.13.6"
  }
 },
 "nbformat": 4,
 "nbformat_minor": 5
}
