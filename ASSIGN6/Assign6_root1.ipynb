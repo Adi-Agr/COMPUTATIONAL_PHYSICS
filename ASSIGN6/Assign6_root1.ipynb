{
 "cells": [
  {
   "cell_type": "code",
   "execution_count": null,
   "id": "84c0d3ad",
   "metadata": {},
   "outputs": [],
   "source": [
    "'''\n",
    "NAME-Aditya AGrawal\n",
    "ROLL-2311010\n",
    "ASSIGNMENt- Bisection and Regula-Falsi\n",
    "'''"
   ]
  },
  {
   "cell_type": "code",
   "execution_count": null,
   "id": "f38e77da",
   "metadata": {},
   "outputs": [],
   "source": [
    "import sys\n",
    "import numpy as np\n",
    "import matplotlib.pyplot as plt\n",
    "\n",
    "sys.path.append('C:/Users/agraw/Documents/GitHub/COMPUTATIONAL_PHYSICS/LABWORK')\n",
    "\n",
    "import adilib_main as ad"
   ]
  },
  {
   "cell_type": "code",
   "execution_count": 15,
   "id": "be74f59d",
   "metadata": {},
   "outputs": [
    {
     "name": "stdout",
     "output_type": "stream",
     "text": [
      "=====================QUESTION1====================\n"
     ]
    },
    {
     "ename": "NameError",
     "evalue": "name 'ad' is not defined",
     "output_type": "error",
     "traceback": [
      "\u001b[31m---------------------------------------------------------------------------\u001b[39m",
      "\u001b[31mNameError\u001b[39m                                 Traceback (most recent call last)",
      "\u001b[36mCell\u001b[39m\u001b[36m \u001b[39m\u001b[32mIn[15]\u001b[39m\u001b[32m, line 40\u001b[39m\n\u001b[32m     37\u001b[39m \u001b[38;5;28;01mdef\u001b[39;00m\u001b[38;5;250m \u001b[39m\u001b[34mf\u001b[39m(x):\n\u001b[32m     38\u001b[39m     \u001b[38;5;28;01mreturn\u001b[39;00m math.log(x/\u001b[32m2\u001b[39m) - math.sin(\u001b[32m2.5\u001b[39m*x)\n\u001b[32m---> \u001b[39m\u001b[32m40\u001b[39m root=\u001b[43mad\u001b[49m.bisectionn(f,\u001b[32m1.5\u001b[39m,\u001b[32m3\u001b[39m)\n\u001b[32m     42\u001b[39m \u001b[38;5;28mprint\u001b[39m(\u001b[33m\"\u001b[39m\u001b[33mBIS\u001b[39m\u001b[33m\"\u001b[39m,\u001b[33m\"\u001b[39m\u001b[33mroot-\u001b[39m\u001b[38;5;130;01m\\n\u001b[39;00m\u001b[33m\"\u001b[39m,root,\u001b[33m\"\u001b[39m\u001b[38;5;130;01m\\n\u001b[39;00m\u001b[33mf(root)_\u001b[39m\u001b[38;5;130;01m\\n\u001b[39;00m\u001b[33m\"\u001b[39m,f(root))\n\u001b[32m     43\u001b[39m \u001b[38;5;28mprint\u001b[39m(\u001b[33m\"\u001b[39m\u001b[33mRF-\u001b[39m\u001b[38;5;130;01m\\n\u001b[39;00m\u001b[33m\"\u001b[39m,\u001b[33m\"\u001b[39m\u001b[33mroot-\u001b[39m\u001b[38;5;130;01m\\n\u001b[39;00m\u001b[33m\"\u001b[39m,ad.regula_falsi(f,\u001b[32m1.5\u001b[39m,\u001b[32m3\u001b[39m),\u001b[33m\"\u001b[39m\u001b[38;5;130;01m\\n\u001b[39;00m\u001b[33mf(root)_\u001b[39m\u001b[38;5;130;01m\\n\u001b[39;00m\u001b[33m\"\u001b[39m,f(ad.regula_falsi(f,\u001b[32m1.5\u001b[39m,\u001b[32m3\u001b[39m)))\n",
      "\u001b[31mNameError\u001b[39m: name 'ad' is not defined"
     ]
    }
   ],
   "source": [
    "import math\n",
    "\n",
    "def brackett(f,a,b):\n",
    "    while f(a)*f(b)>0:\n",
    "        if abs(f(a))<abs(f(b)):\n",
    "            a-=1.5*(b-a)\n",
    "        else:\n",
    "            b+=1.5*(b-a)\n",
    "    else:\n",
    "        return a,b\n",
    "\n",
    "def bisectionn(f,a,b,tol=10e-6,iter=100):\n",
    "    a,b=brackett(f,a,b)\n",
    "    for i in range(iter):\n",
    "        c=(a+b)/2\n",
    "        if abs(b-a)<tol or abs(f(a))<tol or abs(f(b))<tol:\n",
    "            return c\n",
    "        else:\n",
    "            if f(b)*f(c)<0 :\n",
    "                a=c\n",
    "            else:\n",
    "                b=c\n",
    "    return (a+b)/2\n",
    "def regula_falsi(f,a,b,tol=10e-6,iter=100):\n",
    "    a,b=brackett(f,a,b)\n",
    "    for i in range(iter):\n",
    "        c=a-f(a)*(b-a)/(f(b)-f(a))\n",
    "        if abs(f(c))<tol or abs(b-a)<tol:\n",
    "            return c\n",
    "        elif f(a)*f(c)<0:\n",
    "            b=c\n",
    "        else:\n",
    "            a=c\n",
    "    return (a+b)/2\n",
    "#========================================================\n",
    "print(\"=====================QUESTION1====================\")\n",
    "def f(x):\n",
    "    return math.log(x/2) - math.sin(2.5*x)\n",
    "\n",
    "root=ad.bisectionn(f,1.5,3)\n",
    "\n",
    "print(\"BIS\",\"root-\\n\",root,\"\\nf(root)_\\n\",f(root))\n",
    "print(\"RF-\\n\",\"root-\\n\",ad.regula_falsi(f,1.5,3),\"\\nf(root)_\\n\",f(ad.regula_falsi(f,1.5,3)))\n",
    "def g(x):\n",
    "    return -math.cos(x) - x\n",
    "\n",
    "\n",
    "print(\"=====================QUESTION2====================\")\n",
    "print(ad.bisectionn(g,2,4),g(ad.bisectionn(g,2,4)))\n",
    "\n",
    "print(\"Interval-\",brackett(g,2,4))"
   ]
  },
  {
   "cell_type": "code",
   "execution_count": null,
   "id": "ced6ca87",
   "metadata": {},
   "outputs": [],
   "source": []
  }
 ],
 "metadata": {
  "kernelspec": {
   "display_name": ".venv",
   "language": "python",
   "name": "python3"
  },
  "language_info": {
   "codemirror_mode": {
    "name": "ipython",
    "version": 3
   },
   "file_extension": ".py",
   "mimetype": "text/x-python",
   "name": "python",
   "nbconvert_exporter": "python",
   "pygments_lexer": "ipython3",
   "version": "3.13.6"
  }
 },
 "nbformat": 4,
 "nbformat_minor": 5
}
