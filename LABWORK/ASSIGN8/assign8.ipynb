{
 "cells": [
  {
   "cell_type": "code",
   "execution_count": 1,
   "id": "6ed1e6eb",
   "metadata": {},
   "outputs": [
    {
     "data": {
      "text/plain": [
       "'\\nNAME-Aditya Agrawal\\nROLL-2311010\\nASSIGNMENT-7: Multivariable root finding using Newton-Raphson method and fixed point iteration method.\\nDATE-10/09/2025'"
      ]
     },
     "execution_count": 1,
     "metadata": {},
     "output_type": "execute_result"
    }
   ],
   "source": [
    "'''\n",
    "NAME-Aditya Agrawal\n",
    "ROLL-2311010\n",
    "ASSIGNMENT-7: Multivariable root finding using Newton-Raphson method and fixed point iteration method.\n",
    "DATE-10/09/2025'''"
   ]
  },
  {
   "cell_type": "code",
   "execution_count": 2,
   "id": "1db8eb81",
   "metadata": {},
   "outputs": [],
   "source": [
    "import sys\n",
    "import numpy as np\n",
    "import matplotlib.pyplot as plt\n",
    "\n",
    "sys.path.append('C:/Users/agraw/Documents/GitHub/COMPUTATIONAL_PHYSICS/LABWORK')\n",
    "\n",
    "import adilib_class as ad\n",
    "import math"
   ]
  },
  {
   "cell_type": "code",
   "execution_count": null,
   "id": "f18e0a24",
   "metadata": {},
   "outputs": [
    {
     "name": "stdout",
     "output_type": "stream",
     "text": [
      "Iter\t||f(x)||\tΔx\n",
      "----------------------------------------\n",
      "0\t35.35533906\t25.49509757\n",
      "1\t226.38462845\t12.15413741\n",
      "2\t48.79300237\t5.00783886\n",
      "3\t7.01208830\t1.40939806\n",
      "4\t0.50946882\t0.27246214\n",
      "5\t0.03672327\t0.02356213\n",
      "6\t0.00030055\t0.00019626\n",
      "7\t0.00000002\t0.00000001\n",
      "\n",
      "Converged after 8 iterations.\n",
      "Solution: [6.0, 1.0000000000000002, -4.0]\n",
      "Function values at solution: [0.0, 0.0, 0.0]\n"
     ]
    }
   ],
   "source": [
    "def f(x):    #....self defing given f(x)\n",
    "    return [\n",
    "        x[0]**2+x[1] -37,\n",
    "        x[0]-x[1]**2 -5,\n",
    "        x[0]+x[1]+x[2] -3\n",
    "     ]\n",
    "def J(x):    #...self defining Jacobian of f(x)\n",
    "    return [\n",
    "        [2*x[0],1,0],\n",
    "        [1,-2*x[1],0],\n",
    "        [1,1,1]\n",
    "    ]\n",
    "#init guess\n",
    "x0=[1.0,1.0,1.0]\n",
    "\n",
    "solution, iterations = ad.Roots.NewtonRaphson_multivariable(f,J,x0)"
   ]
  },
  {
   "cell_type": "code",
   "execution_count": null,
   "id": "874f4bca",
   "metadata": {},
   "outputs": [
    {
     "name": "stdout",
     "output_type": "stream",
     "text": [
      "Solving the system using fixed-point iteration method:\n",
      "Iter\t||x_k+1 - x_k||\t||x_k+1||\n",
      "--------------------------------------------------\n",
      "0\t6.09684942\t7.93725393\n",
      "1\t0.71827363\t7.48806169\n",
      "2\t0.45050277\t7.25876294\n",
      "3\t0.02452253\t7.27173129\n",
      "4\t0.01898601\t7.28100930\n",
      "5\t0.00103057\t7.28045953\n",
      "6\t0.00079071\t7.28007243\n",
      "7\t0.00004293\t7.28009532\n",
      "8\t0.00003295\t7.28011145\n",
      "9\t0.00000179\t7.28011050\n",
      "\n",
      "Converged after 10 iterations.\n",
      "Solution: [5.999999894789529, 1.0, -4.000001262525634]\n",
      "\n",
      "Verification\n",
      "f(solution) = [-1.262525636036571e-06, -1.0521047055789268e-07, -1.367736104818107e-06]\n",
      "\n",
      "Comparison with Newton-Raphson solution:\n",
      "F-P solution: [5.999999894789529, 1.0, -4.000001262525634]\n",
      "Newton-Raphson solution: [6.0, 1.0000000000000002, -4.0]\n",
      "F-P iterations: 10\n",
      "Newton-Raphson iterations: 8\n"
     ]
    }
   ],
   "source": [
    "\n",
    "\n",
    "# self-difining g(x)\n",
    "def g(x):\n",
    "    return [\n",
    "        math.sqrt(37 - x[1]),  \n",
    "        math.sqrt(x[0] - 5),   \n",
    "        3 - x[0] - x[1]        \n",
    "    ]\n",
    "\n",
    "# init guess\n",
    "x0_fp=[7.0, 1.0, 1.0] # clearly cant take below 5...when i took 6 then only 2 iter....so  chose 7\n",
    "\n",
    "# Solve using fixed-point iteration\n",
    "print(\"Solving the system using fixed-point iteration method:\")\n",
    "fp_solution, fp_iterations = ad.Roots.fixed_point_multivariable(g,x0_fp)\n",
    "\n",
    "# Verify \n",
    "print(\"\\nVerification\")\n",
    "print(f\"f(solution) = {f(fp_solution)}\")\n",
    "\n",
    "# Compare with Newton-Raphson solution\n",
    "print(\"\\nComparison with Newton-Raphson solution:\")\n",
    "print(f\"F-P solution: {fp_solution}\")\n",
    "print(f\"Newton-Raphson solution: {solution}\")\n",
    "print(f\"F-P iterations: {len(fp_iterations)}\")\n",
    "print(f\"Newton-Raphson iterations: {len(iterations)}\")"
   ]
  }
 ],
 "metadata": {
  "kernelspec": {
   "display_name": ".venv",
   "language": "python",
   "name": "python3"
  },
  "language_info": {
   "codemirror_mode": {
    "name": "ipython",
    "version": 3
   },
   "file_extension": ".py",
   "mimetype": "text/x-python",
   "name": "python",
   "nbconvert_exporter": "python",
   "pygments_lexer": "ipython3",
   "version": "3.13.6"
  }
 },
 "nbformat": 4,
 "nbformat_minor": 5
}
