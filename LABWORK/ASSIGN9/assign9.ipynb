{
 "cells": [
  {
   "cell_type": "code",
   "execution_count": 2,
   "id": "4fc98282",
   "metadata": {},
   "outputs": [
    {
     "data": {
      "text/plain": [
       "\"\\nNAME: ADITYA AGRAWAL\\nROLL: 2311010\\nASSIGN8: LAGUERRE's METHOD\\nDATE-11/09/2025\\n\""
      ]
     },
     "execution_count": 2,
     "metadata": {},
     "output_type": "execute_result"
    }
   ],
   "source": [
    "'''\n",
    "NAME: ADITYA AGRAWAL\n",
    "ROLL: 2311010\n",
    "ASSIGN8: LAGUERRE's METHOD\n",
    "DATE-11/09/2025\n",
    "'''\n"
   ]
  },
  {
   "cell_type": "code",
   "execution_count": 6,
   "id": "31669cc2",
   "metadata": {},
   "outputs": [],
   "source": [
    "import sys\n",
    "import numpy as np\n",
    "import matplotlib.pyplot as plt\n",
    "\n",
    "sys.path.append('C:/Users/agraw/Documents/GitHub/COMPUTATIONAL_PHYSICS/LABWORK')\n",
    "\n",
    "import adilib_class as ad\n",
    "import math"
   ]
  },
  {
   "cell_type": "code",
   "execution_count": 7,
   "id": "3f08fcd0",
   "metadata": {},
   "outputs": [],
   "source": [
    "coeff1=[1,-1,-7,1,6]\n",
    "coeff2=[1,0,-5,0,4]\n",
    "coeff3=[2,-19.5,0.5,13.5,-4.5]"
   ]
  },
  {
   "cell_type": "code",
   "execution_count": 8,
   "id": "c460905e",
   "metadata": {},
   "outputs": [
    {
     "name": "stdout",
     "output_type": "stream",
     "text": [
      "\n",
      "Finding all roots of the polynomial P2(x) = x^4 - 5x^2 + 4:\n",
      "Iter  x               P(x)            Error          \n",
      "1     0.7302967433    4.00e+00        7.30e-01       \n",
      "2     0.9901754526    1.62e+00        2.60e-01       \n",
      "3     0.9999993658    5.90e-02        9.82e-03       \n",
      "4     1.0000000000    3.81e-06        6.34e-07       \n",
      "\n",
      "Converged to a root at x = 1.0000000000 after 4 iterations.\n",
      "Found root 1: 1.0000000000\n",
      "Iter  x               P(x)            Error          \n",
      "1     -0.4912307779   -6.02e+00       1.24e+00       \n",
      "2     -0.9652798682   -1.91e+00       4.74e-01       \n",
      "3     -0.9999860654   -1.07e-01       3.47e-02       \n",
      "4     -1.0000000000   -4.18e-05       1.39e-05       \n",
      "\n",
      "Converged to a root at x = -1.0000000000 after 5 iterations.\n",
      "Found root 2: -1.0000000000\n",
      "\n",
      "All roots found for P2: [1.0, -0.999999999999999]\n",
      "\n",
      "Expected roots for P2: [-2, -1, 1, 2]\n",
      "\n",
      "Roots found by factoring x^4 - 5x^2 + 4 as quadratic in x²: [-2.0, -1.0, 1.0, 2.0]\n",
      "\n",
      "Verifying roots by evaluating P2(x) at each root:\n",
      "P2(-2.0) = 0.0000000000\n",
      "P2(-1.0) = 0.0000000000\n",
      "P2(1.0) = 0.0000000000\n",
      "P2(2.0) = 0.0000000000\n"
     ]
    }
   ],
   "source": [
    "# Find all roots of the second polynomial: x^4 - 5x^2 + 4 = 0\n",
    "print(\"\\nFinding all roots of the polynomial P2(x) = x^4 - 5x^2 + 4:\")\n",
    "all_roots = ad.Roots.find_all_roots(coeff2)\n",
    "\n",
    "print(\"\\nAll roots found for P2:\", all_roots)\n",
    "\n",
    "# The polynomial coeff2 = [1, 0, -5, 0, 4] can be factored as (x^2-1)(x^2-4) = (x-1)(x+1)(x-2)(x+2)\n",
    "# So the roots should be: -2, -1, 1, 2\n",
    "print(\"\\nExpected roots for P2: [-2, -1, 1, 2]\")\n",
    "\n",
    "# Let's analyze why we might not be finding all roots\n",
    "# This polynomial can be written as a quadratic in x²: let y = x², then y² - 5y + 4 = 0\n",
    "# Let's solve this manually and find all roots\n",
    "\n",
    "# Solve the quadratic in y = x²\n",
    "y_roots = []\n",
    "a, b, c = 1, -5, 4  # coefficients for y² - 5y + 4 = 0\n",
    "discriminant = b**2 - 4*a*c\n",
    "if discriminant >= 0:\n",
    "    y1 = (-b + math.sqrt(discriminant)) / (2*a)\n",
    "    y2 = (-b - math.sqrt(discriminant)) / (2*a)\n",
    "    y_roots = [y1, y2]\n",
    "\n",
    "# Find x values from y = x²\n",
    "x_roots = []\n",
    "for y in y_roots:\n",
    "    if y >= 0:  # x² can't be negative\n",
    "        x_roots.append(math.sqrt(y))\n",
    "        x_roots.append(-math.sqrt(y))\n",
    "\n",
    "print(\"\\nRoots found by factoring x^4 - 5x^2 + 4 as quadratic in x²:\", sorted(x_roots))\n",
    "\n",
    "# Verify the roots by plugging them back into the original polynomial\n",
    "def evaluate_poly(coeffs, x):\n",
    "    result = 0\n",
    "    for i, coeff in enumerate(coeffs):\n",
    "        result += coeff * (x ** (len(coeffs) - 1 - i))\n",
    "    return result\n",
    "\n",
    "print(\"\\nVerifying roots by evaluating P2(x) at each root:\")\n",
    "for root in sorted(x_roots):\n",
    "    print(f\"P2({root:.1f}) = {evaluate_poly(coeff2, root):.10f}\")"
   ]
  },
  {
   "cell_type": "code",
   "execution_count": 9,
   "id": "1e630cff",
   "metadata": {},
   "outputs": [
    {
     "name": "stdout",
     "output_type": "stream",
     "text": [
      "\n",
      "Finding all roots of the polynomial P1(x) = x^4 - x^3 - 7x^2 + x + 6:\n",
      "Iter  x               P(x)            Error          \n",
      "1     -0.7296953726   6.00e+00        7.30e-01       \n",
      "2     -0.9905168295   2.22e+00        2.61e-01       \n",
      "3     -0.9999994548   7.60e-02        9.48e-03       \n",
      "4     -1.0000000000   4.36e-06        5.45e-07       \n",
      "\n",
      "Converged to a root at x = -1.0000000000 after 4 iterations.\n",
      "Found root 1: -1.0000000000\n",
      "Iter  x               P(x)            Error          \n",
      "1     0.9974750051    1.55e+00        2.47e-01       \n",
      "2     0.9999999973    1.52e-02        2.52e-03       \n",
      "\n",
      "Converged to a root at x = 0.9999999973 after 3 iterations.\n",
      "Found root 2: 0.9999999973\n",
      "\n",
      "All roots found for P1: [-1.0, 0.9999999973169492]\n",
      "Verifying roots by evaluating P1(x) at each root:\n",
      "P1(-1.0) = 0.0000000000\n",
      "P1(1.0) = 0.0000000322\n",
      "\n",
      "Finding all roots of the polynomial P3(x) = 2x^4 - 19.5x^3 + 0.5x^2 + 13.5x - 4.5:\n",
      "Iter  x               P(x)            Error          \n",
      "1     0.3293008119    -4.50e+00       3.29e-01       \n",
      "2     0.4417477786    -6.73e-01       1.12e-01       \n",
      "3     0.4568981514    -4.36e-02       1.52e-02       \n",
      "4     0.4569990227    -2.53e-04       1.01e-04       \n",
      "\n",
      "Converged to a root at x = 0.4569990227 after 5 iterations.\n",
      "Found root 1: 0.4569990227\n",
      "Iter  x               P(x)            Error          \n",
      "1     0.5565570797    -5.76e+00       1.93e-01       \n",
      "2     0.5560171902    -1.45e-02       5.40e-04       \n",
      "\n",
      "Converged to a root at x = 0.5560171902 after 3 iterations.\n",
      "Found root 2: 0.5560171902\n",
      "\n",
      "All roots found for P3: [0.45699902265906367, 0.5560171901789233]\n",
      "Verifying roots by evaluating P3(x) at each root:\n",
      "P3(0.5) = -0.0000000001\n",
      "P3(0.6) = -0.0000000001\n"
     ]
    }
   ],
   "source": [
    "# Find all roots of the first polynomial: x^4 - x^3 - 7x^2 + x + 6 = 0\n",
    "print(\"\\nFinding all roots of the polynomial P1(x) = x^4 - x^3 - 7x^2 + x + 6:\")\n",
    "roots_p1 = ad.Roots.find_all_roots(coeff1)\n",
    "\n",
    "print(\"\\nAll roots found for P1:\", roots_p1)\n",
    "print(\"Verifying roots by evaluating P1(x) at each root:\")\n",
    "for root in sorted(roots_p1):\n",
    "    print(f\"P1({root:.1f}) = {evaluate_poly(coeff1, root):.10f}\")\n",
    "\n",
    "# Find all roots of the third polynomial: 2x^4 - 19.5x^3 + 0.5x^2 + 13.5x - 4.5 = 0\n",
    "print(\"\\nFinding all roots of the polynomial P3(x) = 2x^4 - 19.5x^3 + 0.5x^2 + 13.5x - 4.5:\")\n",
    "roots_p3 = ad.Roots.find_all_roots(coeff3)\n",
    "\n",
    "print(\"\\nAll roots found for P3:\", roots_p3)\n",
    "print(\"Verifying roots by evaluating P3(x) at each root:\")\n",
    "for root in sorted(roots_p3):\n",
    "    print(f\"P3({root:.1f}) = {evaluate_poly(coeff3, root):.10f}\")"
   ]
  }
 ],
 "metadata": {
  "kernelspec": {
   "display_name": ".venv",
   "language": "python",
   "name": "python3"
  },
  "language_info": {
   "codemirror_mode": {
    "name": "ipython",
    "version": 3
   },
   "file_extension": ".py",
   "mimetype": "text/x-python",
   "name": "python",
   "nbconvert_exporter": "python",
   "pygments_lexer": "ipython3",
   "version": "3.13.6"
  }
 },
 "nbformat": 4,
 "nbformat_minor": 5
}
