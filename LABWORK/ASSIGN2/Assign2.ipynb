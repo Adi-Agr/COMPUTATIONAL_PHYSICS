{
 "cells": [
  {
   "cell_type": "code",
   "execution_count": 20,
   "metadata": {},
   "outputs": [
    {
     "data": {
      "text/plain": [
       "'\\nNAME:- Aditya Agrawal\\nROLL:- 2311010\\n\\nASSIGNMENT_2 : Gauss-Jordan\\n'"
      ]
     },
     "execution_count": 20,
     "metadata": {},
     "output_type": "execute_result"
    }
   ],
   "source": [
    "'''\n",
    "NAME:- Aditya Agrawal\n",
    "ROLL:- 2311010\n",
    "\n",
    "ASSIGNMENT_2 : Gauss-Jordan\n",
    "'''"
   ]
  },
  {
   "cell_type": "code",
   "execution_count": 21,
   "metadata": {},
   "outputs": [],
   "source": [
    "import sys\n",
    "\n",
    "sys.path.append('C:/Users/agraw/Documents/GitHub/COMPUTATIONAL_PHYSICS/LABWORK')\n",
    "\n",
    "import adilib_main as ad"
   ]
  },
  {
   "cell_type": "code",
   "execution_count": 22,
   "metadata": {},
   "outputs": [],
   "source": [
    "#funct. to create augmented matrix\n",
    "\n",
    "def create_aug(A,B):\n",
    "    n =len(A)\n",
    "    aug=[]\n",
    "    for i in range(n):\n",
    "        row=[]\n",
    "        for j in range(n):\n",
    "            row.append(float(A[i][j]))\n",
    "        for j in range(len(B[0])):\n",
    "            row.append(B[i][j])\n",
    "        aug.append(row)\n",
    "    return aug"
   ]
  },
  {
   "cell_type": "code",
   "execution_count": 23,
   "metadata": {},
   "outputs": [],
   "source": [
    "#Major matrix operations\n",
    "\n",
    "def swap_rows(matrix,r1,r2):\n",
    "    matrix[r1], matrix[r2] =matrix[r2], matrix[r1]\n",
    "\n",
    "def scale_row(matrix,r,scale):\n",
    "    for j in range(len(matrix[r])):\n",
    "        matrix[r][j]*=scale\n",
    "\n",
    "def add_rows(matrix,r1,r2,scale):\n",
    "    for j in range(len(matrix[r1])):\n",
    "        matrix[r1][j]+= matrix[r2][j]*scale"
   ]
  },
  {
   "cell_type": "code",
   "execution_count": 24,
   "metadata": {},
   "outputs": [],
   "source": [
    "#main function for gauss-jordan elimination\n",
    "\n",
    "def gauss_jordan(A,B):\n",
    "    n=len(B)\n",
    "\n",
    "    augmented=create_aug(A,B)\n",
    "\n",
    "    for i in range(n):\n",
    "        max_row=i\n",
    "        for k in range(i + 1, n):\n",
    "            if abs(augmented[k][i]) > abs(augmented[max_row][i]):\n",
    "                max_row=k\n",
    "        \n",
    "        #Swap rows\n",
    "        if max_row!=i:\n",
    "            swap_rows(augmented,i,max_row)\n",
    "        \n",
    "        #Make diag element 1\n",
    "        if augmented[i][i]!=0:\n",
    "            scale_row(augmented,i,1/augmented[i][i])\n",
    "\n",
    "        #Make other elements 0\n",
    "        for k in range(n):\n",
    "            if i!=k:\n",
    "                scalar=-augmented[k][i]\n",
    "                add_rows(augmented,k,i,scalar)\n",
    "\n",
    "    solution=[row[-1] for row in augmented]\n",
    "    return solution\n",
    "\n"
   ]
  },
  {
   "cell_type": "code",
   "execution_count": 25,
   "metadata": {},
   "outputs": [
    {
     "name": "stdout",
     "output_type": "stream",
     "text": [
      "SOLUTION1:\n",
      "x = -2.0000\n",
      "y = -2.0000\n",
      "z = 1.0000\n",
      "\n",
      "SOLUTION2:\n",
      "a1 = -1.7618\n",
      "a2 = 0.8962\n",
      "a3 = 4.0519\n",
      "a4 = -1.6171\n",
      "a5 = 2.0419\n",
      "a6 = 0.1518\n",
      "\n",
      "done\n"
     ]
    }
   ],
   "source": [
    "#QUES1\n",
    "A1=ad.read_matrix(\"matrix_A.txt\")\n",
    "B1=ad.read_matrix(\"vector_B.txt\")\n",
    "\n",
    "solution1=gauss_jordan(A1, B1)\n",
    "\n",
    "print(\"SOLUTION1:\")\n",
    "print(f\"x = {solution1[0]:.4f}\")\n",
    "print(f\"y = {solution1[1]:.4f}\")\n",
    "print(f\"z = {solution1[2]:.4f}\")\n",
    "print()\n",
    "\n",
    "#QUES2\n",
    "A2=ad.read_matrix(\"matrix_A1.txt\")\n",
    "B2=ad.read_matrix(\"vector_B1.txt\")\n",
    "\n",
    "solution2 = gauss_jordan(A2, B2)\n",
    "\n",
    "print(\"SOLUTION2:\")\n",
    "for i in range(6):\n",
    "    print(f\"a{i+1} = {solution2[i]:.4f}\")\n",
    "print(\"\\ndone\")\n"
   ]
  }
 ],
 "metadata": {
  "kernelspec": {
   "display_name": ".venv",
   "language": "python",
   "name": "python3"
  },
  "language_info": {
   "codemirror_mode": {
    "name": "ipython",
    "version": 3
   },
   "file_extension": ".py",
   "mimetype": "text/x-python",
   "name": "python",
   "nbconvert_exporter": "python",
   "pygments_lexer": "ipython3",
   "version": "3.13.6"
  }
 },
 "nbformat": 4,
 "nbformat_minor": 4
}
