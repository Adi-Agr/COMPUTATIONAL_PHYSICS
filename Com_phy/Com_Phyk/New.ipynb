{
 "cells": [
  {
   "cell_type": "code",
   "execution_count": 4,
   "metadata": {},
   "outputs": [
    {
     "name": "stdout",
     "output_type": "stream",
     "text": [
      "Area of circle (full import): 78.53981633974483\n"
     ]
    }
   ],
   "source": [
    "#__Importing the entire lib__\n",
    "import math\n",
    "\n",
    "radius= 5\n",
    "area = math.pi * radius**2\n",
    "print(\"Area of circle (full import):\",area)"
   ]
  },
  {
   "cell_type": "code",
   "execution_count": 5,
   "metadata": {},
   "outputs": [
    {
     "name": "stdout",
     "output_type": "stream",
     "text": [
      "Square rot of 16 (specific import): 4.0\n",
      "Factorial of 5 (specific import): 120\n"
     ]
    }
   ],
   "source": [
    "#__Importing specific functions from a lib__\n",
    "from math import sqrt , factorial\n",
    "\n",
    "print(\"Square rot of 16 (specific import):\", sqrt(16))\n",
    "print(\"Factorial of 5 (specific import):\",factorial(5))"
   ]
  },
  {
   "cell_type": "code",
   "execution_count": 6,
   "metadata": {},
   "outputs": [
    {
     "name": "stdout",
     "output_type": "stream",
     "text": [
      "Numpy array (alias import): [1 2 3 4]\n"
     ]
    }
   ],
   "source": [
    "#__Importing with an alias__\n",
    "import numpy as np\n",
    "\n",
    "array=np.array([1,2,3,4])\n",
    "print(\"Numpy array (alias import):\",array)"
   ]
  },
  {
   "cell_type": "code",
   "execution_count": 8,
   "metadata": {},
   "outputs": [
    {
     "name": "stdout",
     "output_type": "stream",
     "text": [
      "Cosine of 0 (import *): 1.0\n"
     ]
    }
   ],
   "source": [
    "#___Importing everything (not recommended in practice)_\n",
    "from math import *\n",
    "\n",
    "print(\"Cosine of 0 (import *):\", cos(0))"
   ]
  },
  {
   "cell_type": "code",
   "execution_count": 11,
   "metadata": {},
   "outputs": [
    {
     "name": "stdout",
     "output_type": "stream",
     "text": [
      "Sum of first 20 odd numbers is:  400\n"
     ]
    }
   ],
   "source": [
    "def odd_sum(N):\n",
    "    sum=0\n",
    "    while N>0:\n",
    "        sum+=2*N - 1\n",
    "        N-=1\n",
    "    return sum\n",
    "\n",
    "print(\"Sum of first 20 odd numbers is: \", odd_sum(20))\n",
    "    "
   ]
  },
  {
   "cell_type": "code",
   "execution_count": 13,
   "metadata": {},
   "outputs": [
    {
     "name": "stdout",
     "output_type": "stream",
     "text": [
      "Factorial of 8 is : 40320\n"
     ]
    }
   ],
   "source": [
    "def facto(N):\n",
    "    product=1\n",
    "    while N>0:\n",
    "        product*=N\n",
    "        N-=1\n",
    "    return product\n",
    "\n",
    "print(\"Factorial of 8 is :\",facto(8))"
   ]
  },
  {
   "cell_type": "code",
   "execution_count": 14,
   "metadata": {},
   "outputs": [
    {
     "name": "stdout",
     "output_type": "stream",
     "text": [
      "Sum of first 15 terms of GP with common ratio 0.5 and starting from 1.25 is : 2.4999237060546875\n"
     ]
    }
   ],
   "source": [
    "def gp_sum(N,a,r):\n",
    "    result=0\n",
    "    while N>0:\n",
    "        result+=(a*r**(N-1))\n",
    "        N-=1\n",
    "    return result\n",
    "\n",
    "print(\"Sum of first 15 terms of GP with common ratio 0.5 and starting from 1.25 is :\",gp_sum(15,1.25,.5))"
   ]
  },
  {
   "cell_type": "code",
   "execution_count": 18,
   "metadata": {},
   "outputs": [
    {
     "name": "stdout",
     "output_type": "stream",
     "text": [
      "Sum of first 15 terms of a HP whose first trem id 1.25and commonn difference is 1.5 is : 2.4139570733659186\n"
     ]
    }
   ],
   "source": [
    "def hp_sum(N,a,d):\n",
    "    result=0\n",
    "    term=a\n",
    "    for _ in range(N):\n",
    "        result += 1/term\n",
    "        term += d\n",
    "    return result\n",
    "\n",
    "print(\"Sum of first 15 terms of a HP whose first trem id 1.25and commonn difference is 1.5 is :\", hp_sum(15,1.25,1.5))"
   ]
  },
  {
   "cell_type": "code",
   "execution_count": 7,
   "metadata": {},
   "outputs": [
    {
     "name": "stdout",
     "output_type": "stream",
     "text": [
      "AB = [[-0.3000000000000007, -3.5, 5.2], [-4.5, -2.0, 4.5], [9.3, 0.8, -7.0]]\n",
      "D.C = [[-3.5]]\n",
      "BC = [[1.0], [-5.75], [-9.0]]\n"
     ]
    }
   ],
   "source": [
    "A=[[2,-3,1.4],[2.5,1,-2],[-.8,0,3.1]]\n",
    "B=[[0,-1,1],[1.5,.5,-2],[3,0,-2]]\n",
    "C=[[-2],[.5],[1.5]]\n",
    "D=[[1],[0],[-1]]\n",
    "\n",
    "def mat_mult(X,Y):\n",
    "    result=[]\n",
    "    for i in range(len(X)):\n",
    "        row=[]\n",
    "        for j in range(len(Y[0])):\n",
    "            sum_val=0\n",
    "            for k in range(len(Y)):\n",
    "                sum_val+= X[i][k] * Y[k][j]\n",
    "            row.append(sum_val)\n",
    "        result.append(row)\n",
    "    return result\n",
    "\n",
    "def transpose(X):\n",
    "    result=[]\n",
    "    for i in range(len(X[0])):\n",
    "        row=[]\n",
    "        for j in range(len(X)):\n",
    "            row.append(X[j][i])\n",
    "        result.append(row)\n",
    "    return result\n",
    "\n",
    "\n",
    "print(\"AB =\",mat_mult(A,B))\n",
    "print(\"D.C =\",mat_mult(transpose(D),C))\n",
    "print(\"BC =\",mat_mult(B,C))\n"
   ]
  },
  {
   "cell_type": "code",
   "execution_count": null,
   "metadata": {},
   "outputs": [],
   "source": [
    "class mycomplex():\n",
    "\n",
    "    def __init__(self,R,I):\n",
    "        self.real=R\n",
    "        self.img= I\n",
    "        \n",
    "\n",
    "    def display_complex(self):\n",
    "        return f\"{self.real} + {self.img}j\"\n",
    "\n",
    "    # def sum(self,c1,c2):\n",
    "    #     return f\"{self.real+c1}+{self.img+c2 :.4f}j\"\n",
    "    \n",
    "    # def sub(self,c1,c2):\n",
    "\n",
    "    #     return f\"{self.real-c1}+{self.img-c2 :.4f}j\"\n",
    "\n",
    "    # def multiply(self,c1,c2):\n",
    "    #     return f\"{self.real*c1 - self.img*c2}+({self.img*c1 + self.real*c2 :.4f})j\"\n",
    "    \n",
    "    # def modulus(self):\n",
    "    #     return f\"{((self.real)**2 + (self.img)**2)**(0.5) :.4f}\"              \n",
    "    \n",
    "    # -------f for making string and :.4f for turncating----\n",
    "    \n",
    "    def sum(self,s,c1,c2):\n",
    "        if s == \"+\" :\n",
    "            return f\"{self.real+c1}+{self.img+c2 :.4f}j\"\n",
    "        elif s == \"-\":\n",
    "            return f\"{self.real-c1}+{self.img-c2 :.4f}j\"\n",
    "        elif s== \"*\":\n",
    "            return f\"{self.real*c1 - self.img*c2}+({self.img*c1 + self.real*c2 :.4f})j\"\n",
    "    \n",
    "    def modulus(self):\n",
    "        return f\"{((self.real)**2 + (self.img)**2)**(0.5) :.4f}\""
   ]
  },
  {
   "cell_type": "code",
   "execution_count": null,
   "metadata": {},
   "outputs": [],
   "source": [
    "from mylibrary import *\n",
    "\n",
    "# C1= 1.3 - 2.2j\n",
    "# C2 = -0.8 +1.7j\n",
    "\n",
    "mc=mycomplex(1.3,-2.2)\n",
    "mc2=mycomplex(-0.8,1.7)\n",
    "\n",
    "\n",
    "print(\"Complex number 1:\", mc.display_complex())\n",
    "print(\"Complex number 2:\", mc2.display_complex())\n",
    "\n",
    "\n",
    "# res= mc.sum(mc2.real,mc2.img)\n",
    "# print(\"sum of given complex no. is : \", res)\n",
    "\n",
    "# res1 = mc.sub(mc2.real,mc2.img)\n",
    "# print(\"sub of given complex no. is : \", res1)\n",
    "\n",
    "# res2 = mc.multiply(mc2.real,mc2.img)\n",
    "# print(\"mul of given complex no. is : \", res2)\n",
    "\n",
    "# print(\"modulus of given complex no. is : \", mc.modulus())\n",
    "\n",
    "# ------here mc representing self so it take their real and img. as argument in init one....----------\n",
    "\n",
    "res= mc.sum(\"+\", mc2.real,mc2.img)\n",
    "print(\"sum of given complex no. is : \", res)\n",
    "\n",
    "res1 = mc.sum(\"-\",mc2.real,mc2.img)\n",
    "print(\"sub of given complex no. is : \", res1)\n",
    "\n",
    "res2 = mc.sum(\"*\",mc2.real,mc2.img)\n",
    "print(\"mul of given complex no. is : \", res2)\n",
    "\n",
    "print(\"modulus of given complex no. is : \", mc.modulus())"
   ]
  }
 ],
 "metadata": {
  "kernelspec": {
   "display_name": "Python 3 (ipykernel)",
   "language": "python",
   "name": "python3"
  },
  "language_info": {
   "codemirror_mode": {
    "name": "ipython",
    "version": 3
   },
   "file_extension": ".py",
   "mimetype": "text/x-python",
   "name": "python",
   "nbconvert_exporter": "python",
   "pygments_lexer": "ipython3",
   "version": "3.11.0"
  }
 },
 "nbformat": 4,
 "nbformat_minor": 4
}
