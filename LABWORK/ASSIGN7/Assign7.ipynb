{
 "cells": [
  {
   "cell_type": "code",
   "execution_count": 8,
   "id": "9fa09f27",
   "metadata": {},
   "outputs": [
    {
     "data": {
      "text/plain": [
       "'\\nNAME- Aditya AGrawal\\nROLL- 2311010\\nAssign7- Fixed Point \\n'"
      ]
     },
     "execution_count": 8,
     "metadata": {},
     "output_type": "execute_result"
    }
   ],
   "source": [
    "'''\n",
    "NAME- Aditya AGrawal\n",
    "ROLL- 2311010\n",
    "Assign7- Fixed Point \n",
    "'''"
   ]
  },
  {
   "cell_type": "code",
   "execution_count": 9,
   "id": "203ee0ae",
   "metadata": {},
   "outputs": [],
   "source": [
    "import sys\n",
    "import numpy as np\n",
    "import matplotlib.pyplot as plt\n",
    "\n",
    "sys.path.append('C:/Users/agraw/Documents/GitHub/COMPUTATIONAL_PHYSICS/LABWORK')\n",
    "\n",
    "import adilib_class as ad\n",
    "import math"
   ]
  },
  {
   "cell_type": "markdown",
   "id": "98818df7",
   "metadata": {},
   "source": [
    "#QUESTION 1"
   ]
  },
  {
   "cell_type": "code",
   "execution_count": 10,
   "id": "81a9a6a0",
   "metadata": {},
   "outputs": [],
   "source": [
    "def f(x):\n",
    "    return 3*x+math.sin(x)-math.exp(x)\n",
    "def f_d(x):\n",
    "    return 3+math.cos(x)-math.exp(x)"
   ]
  },
  {
   "cell_type": "code",
   "execution_count": 11,
   "id": "0a1ab480",
   "metadata": {},
   "outputs": [
    {
     "name": "stdout",
     "output_type": "stream",
     "text": [
      "Total Iterations(bi):- 18 0.3604316711425781 \n",
      "f(root)= 2.4938451188338817e-05\n",
      "Total Iterations(rf):- 9 0.3604246015895405 \n",
      "f(root)= 7.2518242395513965e-06\n",
      "Total Iterations(new-raph):- 5 0.36042170296019965 \n",
      "f(root=) -3.11972669919669e-13\n"
     ]
    },
    {
     "data": {
      "text/plain": [
       "(0.36042170296019965, [0, 1, 2, 3, 4])"
      ]
     },
     "execution_count": 11,
     "metadata": {},
     "output_type": "execute_result"
    }
   ],
   "source": [
    "ad.Roots.bisection(f,-1.5,1.5)\n",
    "ad.Roots.regula_falsi(f,-1.5,1.5)\n",
    "ad.Roots.NewtonRaphson(f,f_d,1.0)"
   ]
  },
  {
   "cell_type": "markdown",
   "id": "86eb496d",
   "metadata": {},
   "source": [
    "#QUESTION2\n"
   ]
  },
  {
   "cell_type": "code",
   "execution_count": 12,
   "id": "d0762086",
   "metadata": {},
   "outputs": [],
   "source": [
    "# g(x) = x\n",
    "def g(x):\n",
    "    return 2+3/x  "
   ]
  },
  {
   "cell_type": "code",
   "execution_count": 13,
   "id": "c4bd2aed",
   "metadata": {},
   "outputs": [
    {
     "name": "stdout",
     "output_type": "stream",
     "text": [
      "Total Iterations(fix_p):- 14 2.9999991636995422 \n",
      "f(root=) 3.0000002787668967\n"
     ]
    },
    {
     "data": {
      "text/plain": [
       "(2.9999991636995422, [0, 1, 2, 3, 4, 5, 6, 7, 8, 9, 10, 11, 12, 13])"
      ]
     },
     "execution_count": 13,
     "metadata": {},
     "output_type": "execute_result"
    }
   ],
   "source": [
    "ad.Roots.fixed_point(g, 1.0)"
   ]
  },
  {
   "cell_type": "code",
   "execution_count": 14,
   "id": "4057c7d8",
   "metadata": {},
   "outputs": [
    {
     "name": "stdout",
     "output_type": "stream",
     "text": [
      "Done\n"
     ]
    }
   ],
   "source": [
    "print(\"Done\")"
   ]
  }
 ],
 "metadata": {
  "kernelspec": {
   "display_name": ".venv",
   "language": "python",
   "name": "python3"
  },
  "language_info": {
   "codemirror_mode": {
    "name": "ipython",
    "version": 3
   },
   "file_extension": ".py",
   "mimetype": "text/x-python",
   "name": "python",
   "nbconvert_exporter": "python",
   "pygments_lexer": "ipython3",
   "version": "3.13.6"
  }
 },
 "nbformat": 4,
 "nbformat_minor": 5
}
