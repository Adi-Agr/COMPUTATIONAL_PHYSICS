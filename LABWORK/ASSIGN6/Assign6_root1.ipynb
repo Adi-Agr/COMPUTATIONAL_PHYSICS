{
 "cells": [
  {
   "cell_type": "code",
   "execution_count": 4,
   "id": "84c0d3ad",
   "metadata": {},
   "outputs": [
    {
     "data": {
      "text/plain": [
       "'\\nNAME-Aditya AGrawal\\nROLL-2311010\\nASSIGNMENt- Bisection and Regula-Falsi\\n'"
      ]
     },
     "execution_count": 4,
     "metadata": {},
     "output_type": "execute_result"
    }
   ],
   "source": [
    "'''\n",
    "NAME-Aditya AGrawal\n",
    "ROLL-2311010\n",
    "ASSIGNMENt- Bisection and Regula-Falsi\n",
    "'''"
   ]
  },
  {
   "cell_type": "code",
   "execution_count": 5,
   "id": "f38e77da",
   "metadata": {},
   "outputs": [],
   "source": [
    "import sys\n",
    "import numpy as np\n",
    "import matplotlib.pyplot as plt\n",
    "\n",
    "sys.path.append('C:/Users/agraw/Documents/GitHub/COMPUTATIONAL_PHYSICS/LABWORK')\n",
    "\n",
    "import adilib_main as ad"
   ]
  },
  {
   "cell_type": "code",
   "execution_count": 6,
   "id": "1f4b79d9",
   "metadata": {},
   "outputs": [],
   "source": [
    "import math"
   ]
  },
  {
   "cell_type": "code",
   "execution_count": 9,
   "id": "be74f59d",
   "metadata": {},
   "outputs": [
    {
     "name": "stdout",
     "output_type": "stream",
     "text": [
      "=====================QUESTION1====================\n",
      "BIS root-\n",
      " 2.623143196105957 \n",
      "f(root)_\n",
      " -5.793042688717609e-06\n",
      "RF-\n",
      " root-\n",
      " 2.62314050689124 \n",
      "f(root)_\n",
      " -3.4720778063768165e-07\n",
      "=====================QUESTION2====================\n",
      "-0.7390890121459961 6.491830866761639e-06\n",
      "Interval- (-1.0, 4)\n"
     ]
    }
   ],
   "source": [
    "\n",
    "#========================================================\n",
    "print(\"=====================QUESTION1====================\")\n",
    "def f(x):\n",
    "    return math.log(x/2) - math.sin(2.5*x)\n",
    "\n",
    "root=ad.bisectionn(f,1.5,3)\n",
    "\n",
    "print(\"BIS\",\"root-\\n\",root,\"\\nf(root)_\\n\",f(root))\n",
    "print(\"RF-\\n\",\"root-\\n\",ad.regula_falsi(f,1.5,3),\"\\nf(root)_\\n\",f(ad.regula_falsi(f,1.5,3)))\n",
    "def g(x):\n",
    "    return -math.cos(x) - x\n",
    "\n",
    "\n",
    "print(\"=====================QUESTION2====================\")\n",
    "print(ad.bisectionn(g,2,4),g(ad.bisectionn(g,2,4)))\n",
    "\n",
    "print(\"Interval-\",ad.brackett(g,2,4))"
   ]
  },
  {
   "cell_type": "code",
   "execution_count": null,
   "id": "ced6ca87",
   "metadata": {},
   "outputs": [],
   "source": []
  }
 ],
 "metadata": {
  "kernelspec": {
   "display_name": ".venv",
   "language": "python",
   "name": "python3"
  },
  "language_info": {
   "codemirror_mode": {
    "name": "ipython",
    "version": 3
   },
   "file_extension": ".py",
   "mimetype": "text/x-python",
   "name": "python",
   "nbconvert_exporter": "python",
   "pygments_lexer": "ipython3",
   "version": "3.13.6"
  }
 },
 "nbformat": 4,
 "nbformat_minor": 5
}
