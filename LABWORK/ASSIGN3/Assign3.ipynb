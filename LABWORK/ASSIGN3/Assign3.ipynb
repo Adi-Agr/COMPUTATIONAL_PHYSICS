{
 "cells": [
  {
   "cell_type": "code",
   "execution_count": 32,
   "id": "bb51386c",
   "metadata": {},
   "outputs": [
    {
     "data": {
      "text/plain": [
       "'\\nNAME: ADITYA AGRAWAL\\nROLL: 2311010\\nASSIGNMENT3.......\\n'"
      ]
     },
     "execution_count": 32,
     "metadata": {},
     "output_type": "execute_result"
    }
   ],
   "source": [
    "'''\n",
    "NAME: ADITYA AGRAWAL\n",
    "ROLL: 2311010\n",
    "ASSIGNMENT3.......\n",
    "'''"
   ]
  },
  {
   "cell_type": "code",
   "execution_count": 33,
   "id": "116113c4",
   "metadata": {},
   "outputs": [],
   "source": [
    "import sys\n",
    "\n",
    "sys.path.append('C:/Users/agraw/Documents/GitHub/COMPUTATIONAL_PHYSICS/LABWORK')\n",
    "\n",
    "import adilib_main as ad"
   ]
  },
  {
   "cell_type": "code",
   "execution_count": 34,
   "id": "82720f6c",
   "metadata": {},
   "outputs": [],
   "source": [
    "#===================\n",
    "#=QUESTION1\n",
    "#==================="
   ]
  },
  {
   "cell_type": "code",
   "execution_count": 35,
   "id": "672138c9",
   "metadata": {},
   "outputs": [],
   "source": [
    "def ludecomp_doolittle(matrix):\n",
    "    '''(diagonal of L =1)....return L and U'''\n",
    "    n=len(matrix)\n",
    "    L=[[0.0]*n for _ in range(n)]\n",
    "    U=[[0.0]*n for _ in range(n)]\n",
    "\n",
    "    #_____set diag 1________\n",
    "\n",
    "    for i in range(n):\n",
    "        L[i][i]=1.0\n",
    "\n",
    "    #______main_Algo________\n",
    "\n",
    "    for i in range(n):\n",
    "\n",
    "        #_calculate U element\n",
    "        for j in range(i,n):\n",
    "            sum_val=0.0\n",
    "            for k in range(i):\n",
    "                sum_val+=L[i][k]*U[k][j]\n",
    "            U[i][j]=matrix[i][j]-sum_val\n",
    "\n",
    "        #_calculate L element\n",
    "        for j in range(i+1,n):\n",
    "            if U[i][i]==0:\n",
    "                print(\"LU-decomp. failed--matrix singular!!!\") #  <-----i took care of singularity\n",
    "                return None,None\n",
    "            sum_val=0.0\n",
    "            for k in range(i):\n",
    "                sum_val+=L[j][k]*U[k][i]\n",
    "            L[j][i]=(matrix[j][i]-sum_val)/U[i][i]\n",
    "\n",
    "    print(\"LU-decomp. successful\")\n",
    "    return L,U"
   ]
  },
  {
   "cell_type": "code",
   "execution_count": 36,
   "id": "277e5723",
   "metadata": {},
   "outputs": [
    {
     "name": "stdout",
     "output_type": "stream",
     "text": [
      "LU-decomp. successful\n",
      "L: [[1.0, 0.0, 0.0], [3.0, 1.0, 0.0], [2.0, 1.0, 1.0]] \n",
      "U: [[1.0, 2.0, 4.0], [0.0, 2.0, 2.0], [0.0, 0.0, 3.0]] \n",
      "L*U: [[1.0, 2.0, 4.0], [3.0, 8.0, 14.0], [2.0, 6.0, 13.0]]\n"
     ]
    }
   ],
   "source": [
    "matrixA=ad.read_matrix(\"matrixA.txt\")\n",
    "L, U = ludecomp_doolittle(matrixA)\n",
    "print(\"L:\", L,\"\\nU:\", U ,\"\\nL*U:\", ad.mat_mult(L, U))"
   ]
  },
  {
   "cell_type": "code",
   "execution_count": 37,
   "id": "3de89d7b",
   "metadata": {},
   "outputs": [],
   "source": [
    "#===================\n",
    "#=QUESTION2\n",
    "#==================="
   ]
  },
  {
   "cell_type": "code",
   "execution_count": 38,
   "id": "320371e8",
   "metadata": {},
   "outputs": [],
   "source": [
    "def forward_substitution(L,B):\n",
    "    n=len(L)\n",
    "    Y=[0.0]*n\n",
    "\n",
    "    print(\"Forward_Sub....Uy=b...(finding y! )\")\n",
    "\n",
    "    for i in range(n):\n",
    "        sum_val=0.0\n",
    "        for j in range(i):\n",
    "            sum_val += L[i][j] * Y[j]\n",
    "        Y[i] = (B[i] - sum_val) / L[i][i]\n",
    "        print(f\"Y[{i}] = {Y[i]:.6f}\")\n",
    "    return Y\n",
    "\n",
    "def backward_substitution(U,Y):\n",
    "    n=len(U)\n",
    "    X=[0.0]*n\n",
    "\n",
    "    print(\"Backward_Sub....Ux=y...(finding x! )\")\n",
    "\n",
    "    for i in range(n-1,-1,-1):\n",
    "        sum_val=0.0\n",
    "        for j in range(i+1,n):\n",
    "            sum_val+=U[i][j]*X[j]\n",
    "        X[i] = (Y[i]-sum_val)/U[i][i]\n",
    "        print(f\"x[{i}]={X[i]:.6f}\")\n",
    "    return X\n",
    "\n",
    "def solve_by_backward_forward_substitution(A,B):\n",
    "    L,U=ludecomp_doolittle(A)\n",
    "    Y=forward_substitution(L,B)\n",
    "    X=backward_substitution(U,Y)\n",
    "    return X"
   ]
  },
  {
   "cell_type": "code",
   "execution_count": 39,
   "id": "6e5f83c8",
   "metadata": {},
   "outputs": [
    {
     "name": "stdout",
     "output_type": "stream",
     "text": [
      "LU-decomp. successful\n",
      "Forward_Sub....Uy=b...(finding y! )\n",
      "Y[0] = 19.000000\n",
      "Y[1] = 2.000000\n",
      "Y[2] = -6.400000\n",
      "Y[3] = -214.428571\n",
      "Y[4] = -12.250000\n",
      "Y[5] = -7.842805\n",
      "Backward_Sub....Ux=y...(finding x! )\n",
      "x[5]=0.151832\n",
      "x[4]=2.041914\n",
      "x[3]=-1.617131\n",
      "x[2]=4.051931\n",
      "x[1]=0.896228\n",
      "x[0]=-1.761817\n",
      "[-1.761817043997862, 0.8962280338740133, 4.051931404116158, -1.6171308025395421, 2.041913538501913, 0.15183248715593525]\n"
     ]
    }
   ],
   "source": [
    "matrixA1=ad.read_matrix(\"matrixA1.txt\")\n",
    "vectorB1=ad.read_matrix(\"vectorB1.txt\")\n",
    "\n",
    "flat_vectorB1=[row[0] for row in vectorB1] #i converted column vector to row vector to avoid error\n",
    "\n",
    "print(solve_by_backward_forward_substitution(matrixA1, flat_vectorB1))"
   ]
  }
 ],
 "metadata": {
  "kernelspec": {
   "display_name": ".venv",
   "language": "python",
   "name": "python3"
  },
  "language_info": {
   "codemirror_mode": {
    "name": "ipython",
    "version": 3
   },
   "file_extension": ".py",
   "mimetype": "text/x-python",
   "name": "python",
   "nbconvert_exporter": "python",
   "pygments_lexer": "ipython3",
   "version": "3.13.6"
  }
 },
 "nbformat": 4,
 "nbformat_minor": 5
}
