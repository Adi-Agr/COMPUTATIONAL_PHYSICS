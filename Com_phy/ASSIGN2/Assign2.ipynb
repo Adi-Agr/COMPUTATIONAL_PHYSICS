{
 "cells": [
  {
   "cell_type": "code",
   "execution_count": 41,
   "metadata": {},
   "outputs": [
    {
     "data": {
      "text/plain": [
       "'\\nNAME:- Aditya Agrawal\\nROLL:- 2311010\\n\\nASSIGNMENT_2 : Gauss-Jordan\\n'"
      ]
     },
     "execution_count": 41,
     "metadata": {},
     "output_type": "execute_result"
    }
   ],
   "source": [
    "'''\n",
    "NAME:- Aditya Agrawal\n",
    "ROLL:- 2311010\n",
    "\n",
    "ASSIGNMENT_2 : Gauss-Jordan\n",
    "'''"
   ]
  },
  {
   "cell_type": "code",
   "execution_count": 42,
   "metadata": {},
   "outputs": [],
   "source": [
    "import numpy as np"
   ]
  },
  {
   "cell_type": "code",
   "execution_count": 45,
   "metadata": {},
   "outputs": [],
   "source": [
    "def aug(A, b):\n",
    "    m,n = A.shape\n",
    "    augmented = np.zeros((m,n + 1)) \n",
    "\n",
    "    for i in range(m):\n",
    "        for j in range(n):\n",
    "            augmented[i][j] = A[i][j]    \n",
    "        augmented[i][n] = b[i]          \n",
    "\n",
    "    return augmented"
   ]
  },
  {
   "cell_type": "code",
   "execution_count": 61,
   "metadata": {},
   "outputs": [
    {
     "name": "stdout",
     "output_type": "stream",
     "text": [
      "SOLUTION:\n",
      "x = -2.0000\n",
      "y = -2.0000\n",
      "z = 1.0000\n",
      "\n",
      "SOLUTION:\n",
      "a1 = -1.7618\n",
      "a2 = 0.8962\n",
      "a3 = 4.0519\n",
      "a4 = -1.6171\n",
      "a5 = 2.0419\n",
      "a6 = 0.1518\n",
      "\n"
     ]
    }
   ],
   "source": [
    "def gauss_jordan(A, b):\n",
    "    \n",
    "    n = len(b)\n",
    "    # Create augmented matrix [A|b]\n",
    "    augmented = aug(A,b) \n",
    "    \n",
    "    for i in range(n):\n",
    "        \n",
    "        max_row = i\n",
    "        for k in range(i + 1, n):\n",
    "            if abs(augmented[k][i]) > abs(augmented[max_row][i]):\n",
    "                max_row = k\n",
    "        \n",
    "        #Swap rows if\n",
    "        if max_row != i:\n",
    "            augmented[[i, max_row]] = augmented[[max_row, i]]\n",
    "        \n",
    "        #Make diag element 1\n",
    "        if augmented[i][i] != 0:\n",
    "            augmented[i] = augmented[i] / augmented[i][i]\n",
    "        \n",
    "        #Make other elements 0\n",
    "        for j in range(n):\n",
    "            if i != j and augmented[j][i] != 0:\n",
    "                augmented[j] = augmented[j] - augmented[j][i] * augmented[i]\n",
    "    \n",
    "    solution = augmented[:, -1]\n",
    "    return solution\n",
    "\n"
   ]
  },
  {
   "cell_type": "code",
   "execution_count": 64,
   "metadata": {},
   "outputs": [
    {
     "name": "stdout",
     "output_type": "stream",
     "text": [
      "SOLUTION:\n",
      "x = -2.0000\n",
      "y = -2.0000\n",
      "z = 1.0000\n",
      "\n",
      "SOLUTION:\n",
      "a1 = -1.7618\n",
      "a2 = 0.8962\n",
      "a3 = 4.0519\n",
      "a4 = -1.6171\n",
      "a5 = 2.0419\n",
      "a6 = 0.1518\n",
      "\n"
     ]
    }
   ],
   "source": [
    "#QUES1\n",
    "A1=np.loadtxt(\"matrix_A.txt\")\n",
    "b1=np.loadtxt(\"vector_B.txt\")\n",
    "\n",
    "solution1 = gauss_jordan(A1, b1)\n",
    "\n",
    "print(\"SOLUTION1:\")\n",
    "print(f\"x = {solution1[0]:.4f}\")\n",
    "print(f\"y = {solution1[1]:.4f}\")\n",
    "print(f\"z = {solution1[2]:.4f}\")\n",
    "print()\n",
    "\n",
    "#QUES2\n",
    "A2=np.loadtxt(\"matrix_A1.txt\")\n",
    "b2=np.loadtxt(\"vector_B1.txt\")\n",
    "\n",
    "solution2 = gauss_jordan(A2, b2)\n",
    "\n",
    "print(\"SOLUTION2:\")\n",
    "for i in range(6):\n",
    "    print(f\"a{i+1} = {solution2[i]:.4f}\")\n",
    "print()\n"
   ]
  },
  {
   "cell_type": "code",
   "execution_count": null,
   "metadata": {},
   "outputs": [],
   "source": []
  }
 ],
 "metadata": {
  "kernelspec": {
   "display_name": "Python 3 (ipykernel)",
   "language": "python",
   "name": "python3"
  },
  "language_info": {
   "codemirror_mode": {
    "name": "ipython",
    "version": 3
   },
   "file_extension": ".py",
   "mimetype": "text/x-python",
   "name": "python",
   "nbconvert_exporter": "python",
   "pygments_lexer": "ipython3",
   "version": "3.11.0"
  }
 },
 "nbformat": 4,
 "nbformat_minor": 4
}
