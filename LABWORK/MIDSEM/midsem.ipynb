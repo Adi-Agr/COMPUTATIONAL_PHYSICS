{
 "cells": [
  {
   "cell_type": "code",
   "execution_count": 72,
   "id": "40a4c708",
   "metadata": {},
   "outputs": [
    {
     "data": {
      "text/plain": [
       "\"\\nNAME: ADITYA AGRAWAL\\nROLL: 2311010\\nASSIGN8: LAGUERRE's METHOD\\nDATE-08/10/2025\\n\""
      ]
     },
     "execution_count": 72,
     "metadata": {},
     "output_type": "execute_result"
    }
   ],
   "source": [
    "'''\n",
    "NAME: ADITYA AGRAWAL\n",
    "ROLL: 2311010\n",
    "ASSIGN8: LAGUERRE's METHOD\n",
    "DATE-08/10/2025\n",
    "'''\n"
   ]
  },
  {
   "cell_type": "code",
   "execution_count": 73,
   "id": "2c881566",
   "metadata": {},
   "outputs": [],
   "source": [
    "\n",
    "import sys\n",
    "import numpy as np\n",
    "import matplotlib.pyplot as plt\n",
    "\n",
    "sys.path.append('c:/Users/mayur/ClonedGitRepo/COMPUTATIONAL_PHYSICS/LABWORK')\n",
    "\n",
    "import adilib_class as ad\n",
    "import math"
   ]
  },
  {
   "cell_type": "code",
   "execution_count": 74,
   "id": "2e9b255a",
   "metadata": {},
   "outputs": [
    {
     "ename": "NameError",
     "evalue": "name 'adi' is not defined",
     "output_type": "error",
     "traceback": [
      "\u001b[31m---------------------------------------------------------------------------\u001b[39m",
      "\u001b[31mNameError\u001b[39m                                 Traceback (most recent call last)",
      "\u001b[36mCell\u001b[39m\u001b[36m \u001b[39m\u001b[32mIn[74]\u001b[39m\u001b[32m, line 8\u001b[39m\n\u001b[32m      6\u001b[39m outside_circle,outside_circle_index=[],[]\n\u001b[32m      7\u001b[39m inside_circle,inside_circle_index=[],[]\n\u001b[32m----> \u001b[39m\u001b[32m8\u001b[39m LCG=\u001b[43madi\u001b[49m.LCG(N)\n\u001b[32m      9\u001b[39m index_f=adi.index_f(N)\n\u001b[32m     10\u001b[39m \u001b[38;5;28;01mfor\u001b[39;00m i \u001b[38;5;129;01min\u001b[39;00m \u001b[38;5;28mrange\u001b[39m(N):\n",
      "\u001b[31mNameError\u001b[39m: name 'adi' is not defined"
     ]
    }
   ],
   "source": [
    "#_______________QUESTION_3________________________\n",
    "N=20\n",
    "N_vals=[]\n",
    "pi_vals=[]\n",
    "while N <= 10000 :\n",
    "    outside_circle,outside_circle_index=[],[]\n",
    "    inside_circle,inside_circle_index=[],[]\n",
    "    LCG=adi.LCG(N)\n",
    "    index_f=adi.index_f(N)\n",
    "    for i in range(N):\n",
    "        \n",
    "        if index_f[i]**2 + LCG[i]**2 <= 1 :\n",
    "            inside_circle.append(LCG[i])\n",
    "            inside_circle_index.append(index_f[i])\n",
    "        else:\n",
    "            outside_circle.append(LCG[i])\n",
    "            outside_circle_index.append(index_f[i])\n",
    "    pi=(4/N)*len(inside_circle)\n",
    "    pi_vals.append(pi)\n",
    "    N_vals.append(N)\n",
    "    N+=1\n",
    "print(\"Last_pi_val= \",pi_vals[-1],\"....  Average_pi_val= \",np.mean(pi_vals),\"....  Original_pi_val = \",np.pi)\n",
    "plt.plot(N_vals,pi_vals,marker='o',linestyle='none',color='b')\n",
    "plt.savefig(\"Monte_carlo_Pi.png\")\n",
    "plt.show()\n"
   ]
  },
  {
   "cell_type": "code",
   "execution_count": null,
   "id": "211b062d",
   "metadata": {},
   "outputs": [
    {
     "name": "stdout",
     "output_type": "stream",
     "text": [
      "Reached <5% error at N=300: Estimated area=6.08000,Error=3.23%\n"
     ]
    },
    {
     "data": {
      "image/png": "[encoded data removed]",
      "text/plain": [
       "<Figure size 640x480 with 1 Axes>"
      ]
     },
     "metadata": {},
     "output_type": "display_data"
    }
   ],
   "source": [
    "# Monte Carlo estimation of ellipse area using self-made LCG\n",
    "a=2\n",
    "b=1\n",
    "analytical_area=math.pi*a*b\n",
    "\n",
    "N=100\n",
    "N_vals=[]\n",
    "area_vals=[]\n",
    "error_vals=[]\n",
    "within_5_percent=False\n",
    "\n",
    "while N<=100000 and not within_5_percent:\n",
    "    # Generate random points in rectangle [-a, a] x [-b, b]\n",
    "    rand_x = ad.RandomNumbers.pRNG_LCG(N, s=0.1)\n",
    "    rand_y = ad.RandomNumbers.pRNG_LCG(N, s=0.7)  # Different seed for y\n",
    "    x_vals = [2 * a * (rx - 0.5) for rx in rand_x]\n",
    "    y_vals = [2 * b * (ry - 0.5) for ry in rand_y]\n",
    "    inside = 0\n",
    "    for x, y in zip(x_vals, y_vals):\n",
    "        if (x/a)**2+(y/b)**2<=1:\n",
    "            inside+=1\n",
    "    rect_area=4*a*b\n",
    "    est_area=rect_area*inside/N\n",
    "    error=abs(est_area-analytical_area)/analytical_area*100\n",
    "    N_vals.append(N)\n",
    "    area_vals.append(est_area)\n",
    "    error_vals.append(error)\n",
    "    if error<5:\n",
    "        within_5_percent=True\n",
    "        print(f\"Reached <5% error at N={N}: Estimated area={est_area:.5f},Error={error:.2f}%\")\n",
    "    N += 100\n",
    "\n",
    "ad.Visualization.plot(N_vals,area_vals,\"Convergence\",\"Number of Random Points (N)\",\"Estimated Area\",\"montecarlo_plot.png\")"
   ]
  },
  {
   "cell_type": "code",
   "execution_count": null,
   "id": "4062bf4a",
   "metadata": {},
   "outputs": [
    {
     "name": "stdout",
     "output_type": "stream",
     "text": [
      "Total Iterations(new-raph):- 6 4.965114231744279 \n",
      "f(root=) 3.2951419370874646e-13\n",
      "\n",
      "\n",
      "\n",
      "Weins constant is: 2.90e-03\n"
     ]
    }
   ],
   "source": [
    "#using newton raphson method,solve...(x-5)e^x + 5 = 0\n",
    "def f(x):\n",
    "    return (x-5)*math.exp(x)+5\n",
    "def df(x):\n",
    "    return (x-4)*math.exp(x)\n",
    "x0=4.5\n",
    "x,listt=ad.Roots.NewtonRaphson(f,df,x0,0.0001,100)\n",
    "\n",
    "h=6.626e-34\n",
    "c=3e8\n",
    "k=1.381e-23\n",
    "\n",
    "#weins constant upto 2 decimal places in scientific notation\n",
    "b=(h*c)/(k*x)\n",
    "print(\"\\n\\n\\nWeins constant is:\",format(b,\".2e\"))"
   ]
  },
  {
   "cell_type": "code",
   "execution_count": null,
   "id": "3c622c6c",
   "metadata": {},
   "outputs": [
    {
     "name": "stdout",
     "output_type": "stream",
     "text": [
      "LU decomposition successful\n",
      "Forward Substitution: Solving L*y=B\n",
      "Backward Substitution: Solving U*x=y\n",
      "Inverse of the matrix using LU decomposition:\n",
      "[-0.708, 2.531, 2.431, 0.967, -3.902]\n",
      "[-0.193, 0.31, 0.279, 0.058, -0.294]\n",
      "[0.022, 0.365, 0.286, 0.051, -0.29]\n",
      "[0.273, -0.13, 0.132, -0.141, 0.449]\n",
      "[0.782, -2.875, -2.679, -0.701, 4.234]\n"
     ]
    }
   ],
   "source": [
    "#___________QUESTION3______________\n",
    "#find inverse using ludecomposition method\n",
    "matrix3=[\n",
    "    [.2,-5,3,.4,0],\n",
    "    [-.5,1,7,-2,.3],\n",
    "    [.6,2,-4,3,.1],\n",
    "    [3,.8,2,-.4,3],\n",
    "    [.5,3,2,.4,1]\n",
    "]\n",
    "I=[\n",
    "    [1,0,0,0,0],\n",
    "    [0,1,0,0,0],\n",
    "    [0,0,1,0,0],\n",
    "    [0,0,0,1,0],\n",
    "    [0,0,0,0,1]\n",
    "]\n",
    "#LU decomposition\n",
    "result= ad.LinearSystems.solve_by_lu(matrix3, I)\n",
    "#printing the result(rounded to 3 decimal places)\n",
    "print(\"Inverse of the matrix using LU decomposition:\")\n",
    "for row in result:\n",
    "    print([round(elem, 3) for elem in row])"
   ]
  },
  {
   "cell_type": "code",
   "execution_count": null,
   "id": "44d8a0c3",
   "metadata": {},
   "outputs": [
    {
     "name": "stdout",
     "output_type": "stream",
     "text": [
      "\n",
      "Matrix A:\n",
      "['-2.00', '0.00', '0.00', '-1.00', '0.00', '0.50']\n",
      "['0.00', '4.00', '0.50', '0.00', '1.00', '0.00']\n",
      "['0.00', '0.50', '1.50', '0.00', '0.00', '0.00']\n",
      "['-1.00', '0.00', '0.00', '-2.00', '0.00', '1.00']\n",
      "['0.00', '1.00', '0.00', '0.00', '-2.50', '0.00']\n",
      "['0.50', '0.00', '0.00', '1.00', '0.00', '-3.75']\n",
      "\n",
      "Vector B: ['-1.00', '0.00', '2.75', '2.50', '-3.00', '2.00']\n",
      "Gauss-Seidel Iteration Method\n",
      "Iter\tx[0]\tx[1]\tx[2]\tx[3]\tx[4]\tx[5]\tError\n",
      "0\t0.0000\t0.0000\t0.0000\t0.0000\t0.0000\t0.0000\t---\n",
      "1\t0.5000\t0.0000\t1.8333\t-1.5000\t1.2000\t-0.8667\t1.833333\n",
      "2\t1.0333\t-0.5292\t2.0097\t-2.2000\t0.9883\t-0.9822\t0.700000\n",
      "3\t1.3544\t-0.4983\t1.9994\t-2.4183\t1.0007\t-0.9976\t0.321111\n",
      "4\t1.4598\t-0.5001\t2.0000\t-2.4787\t1.0000\t-0.9997\t0.105315\n",
      "5\t1.4894\t-0.5000\t2.0000\t-2.4946\t1.0000\t-1.0000\t0.029667\n",
      "6\t1.4973\t-0.5000\t2.0000\t-2.4986\t1.0000\t-1.0000\t0.007862\n",
      "7\t1.4993\t-0.5000\t2.0000\t-2.4997\t1.0000\t-1.0000\t0.002025\n",
      "8\t1.4998\t-0.5000\t2.0000\t-2.4999\t1.0000\t-1.0000\t0.000514\n",
      "9\t1.5000\t-0.5000\t2.0000\t-2.5000\t1.0000\t-1.0000\t0.000130\n",
      "10\t1.5000\t-0.5000\t2.0000\t-2.5000\t1.0000\t-1.0000\t0.000033\n",
      "13\t1.5000\t-0.5000\t2.0000\t-2.5000\t1.0000\t-1.0000\t0.000001\n",
      "\n",
      "Converged after 13 iterations.\n",
      "\n",
      "Solution x (Gauss-Seidel): ['1.500000', '-0.500000', '2.000000', '-2.500000', '1.000000', '-1.000000']\n"
     ]
    }
   ],
   "source": [
    "#_____QUESTION4______________________\n",
    "#using gauss sidel method solve Ax=B\n",
    "#_____________________________________\n",
    "A = ad.MatrixOperations.readd(\"matrixA.txt\")\n",
    "A=[\n",
    "[-2  ,  0  ,  0   , -1  ,  0  ,  0.5],\n",
    "[ 0 ,   4   , 0.5  , 0  ,  1  ,  0],\n",
    "[ 0  ,  0.5 , 1.5 ,  0  ,  0  ,  0],\n",
    "[-1  ,  0  ,  0   , -2  ,  0  ,  1],\n",
    " [0   , 1  ,  0  ,   0  , -2.5 , 0],\n",
    " [0.5 , 0  ,  0   ,  1  ,  0   ,-3.75]\n",
    "]\n",
    "print(\"\\nMatrix A:\")\n",
    "for row in A:\n",
    "    print([f\"{val:.2f}\" for val in row])\n",
    "B = ad.MatrixOperations.readd(\"vectorB.txt\")\n",
    "B=[-1,0,2.75,2.5,-3,2]\n",
    "print(\"\\nVector B:\", [f\"{val:.2f}\" for val in B])\n",
    "x,iterations,_=ad.LinearSystems.gauss_seidel_iteration(A,B)\n",
    "\n",
    "print(\"\\nSolution x (Gauss-Seidel):\", [f\"{val:.6f}\" for val in x])"
   ]
  },
  {
   "cell_type": "code",
   "execution_count": null,
   "id": "83c9641f",
   "metadata": {},
   "outputs": [],
   "source": []
  }
 ],
 "metadata": {
  "kernelspec": {
   "display_name": "COMPUTATIONAL_PHYSICS",
   "language": "python",
   "name": "python3"
  },
  "language_info": {
   "codemirror_mode": {
    "name": "ipython",
    "version": 3
   },
   "file_extension": ".py",
   "mimetype": "text/x-python",
   "name": "python",
   "nbconvert_exporter": "python",
   "pygments_lexer": "ipython3",
   "version": "3.13.7"
  }
 },
 "nbformat": 4,
 "nbformat_minor": 5
}
