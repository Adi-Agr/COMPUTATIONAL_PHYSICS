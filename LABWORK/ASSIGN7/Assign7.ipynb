{
 "cells": [
  {
   "cell_type": "code",
   "execution_count": 1,
   "id": "9fa09f27",
   "metadata": {},
   "outputs": [
    {
     "data": {
      "text/plain": [
       "'\\nNAME- Aditya AGrawal\\nROLL- 2311010\\nAssign7- Fixed Point \\n'"
      ]
     },
     "execution_count": 1,
     "metadata": {},
     "output_type": "execute_result"
    }
   ],
   "source": [
    "'''\n",
    "NAME- Aditya AGrawal\n",
    "ROLL- 2311010\n",
    "Assign7- Fixed Point \n",
    "'''"
   ]
  },
  {
   "cell_type": "code",
   "execution_count": 2,
   "id": "203ee0ae",
   "metadata": {},
   "outputs": [],
   "source": [
    "import sys\n",
    "import numpy as np\n",
    "import matplotlib.pyplot as plt\n",
    "\n",
    "sys.path.append('C:/Users/agraw/Documents/GitHub/COMPUTATIONAL_PHYSICS/LABWORK')\n",
    "\n",
    "import adilib_class as ad\n",
    "import math"
   ]
  },
  {
   "cell_type": "code",
   "execution_count": 3,
   "id": "81a9a6a0",
   "metadata": {},
   "outputs": [],
   "source": [
    "def f(x):\n",
    "    return 3*x+math.sin(x)-math.exp(x)\n",
    "def f_d(x):\n",
    "    return 3+math.cos(x)-math.exp(x)"
   ]
  },
  {
   "cell_type": "code",
   "execution_count": null,
   "id": "0a1ab480",
   "metadata": {},
   "outputs": [
    {
     "name": "stdout",
     "output_type": "stream",
     "text": [
      "Total Iterations(bi):- 18 0.3604316711425781 \n",
      "f(root)= 2.4938451188338817e-05\n",
      "Total Iterations(rf):- 9 0.3604246015895405 \n",
      "f(root)= 7.2518242395513965e-06\n"
     ]
    },
    {
     "data": {
      "text/plain": [
       "0.3604246015895405"
      ]
     },
     "execution_count": 4,
     "metadata": {},
     "output_type": "execute_result"
    }
   ],
   "source": [
    "ad.Roots.bisection(f,-1.5,1.5)\n",
    "ad.Roots.regula_falsi(f,-1.5,1.5)\n",
    "ad.Roots.NewtonRaphson(f,f_d,1.0)"
   ]
  },
  {
   "cell_type": "code",
   "execution_count": 5,
   "id": "d0762086",
   "metadata": {},
   "outputs": [],
   "source": [
    "# Function that has a fixed point (where g(x) = x)\n",
    "def g(x):\n",
    "    return math.cos(x)  # Has a fixed point around x ≈ 0.739"
   ]
  },
  {
   "cell_type": "code",
   "execution_count": 6,
   "id": "c4bd2aed",
   "metadata": {},
   "outputs": [
    {
     "name": "stdout",
     "output_type": "stream",
     "text": [
      "0.5403023058681398 0.45969769413186023\n",
      "0.8575532158463933 0.31725090997825356\n",
      "0.6542897904977792 0.20326342534861408\n",
      "0.7934803587425655 0.13919056824478626\n",
      "0.7013687736227566 0.09211158511980888\n",
      "0.7639596829006542 0.06259090927789757\n",
      "0.7221024250267077 0.04185725787394645\n",
      "0.7504177617637605 0.028315336737052776\n",
      "0.7314040424225098 0.019013719341250734\n",
      "0.7442373549005569 0.012833312478047088\n",
      "0.7356047404363473 0.008632614464209598\n",
      "0.7414250866101093 0.0058203461737620366\n",
      "0.7375068905132428 0.0039181960968665\n",
      "0.7401473355678757 0.0026404450546329006\n",
      "0.7383692041223232 0.0017781314455525\n",
      "0.739567202212256 0.0011979980899328169\n",
      "0.7387603198742114 0.0008068823380446011\n",
      "0.7393038923969057 0.0005435725226943244\n",
      "0.7389377567153446 0.00036613568156118603\n",
      "0.7391843997714936 0.0002466430561490762\n",
      "0.7390182624274122 0.00016613734408144065\n",
      "0.7391301765296711 0.00011191410225885878\n",
      "0.7390547907469175 7.538578275356755e-05\n",
      "0.7391055719265361 5.078117961865303e-05\n",
      "0.739071365298945 3.4206627591126804e-05\n",
      "0.7390944073790912 2.304208014614062e-05\n",
      "0.7390788859949922 1.5521384098993174e-05\n",
      "0.7390893414033927 1.045540840050041e-05\n",
      "0.7390822985224023 7.042880990404399e-06\n",
      "Total Iterations(fix_p):- 29 0.7390822985224023 \n",
      "f(root=) 0.7390870426953322\n",
      "\n",
      "Root: 0.7390822985224023\n",
      "Iterations: [0, 1, 2, 3, 4, 5, 6, 7, 8, 9, 10, 11, 12, 13, 14, 15, 16, 17, 18, 19, 20, 21, 22, 23, 24, 25, 26, 27, 28]\n"
     ]
    }
   ],
   "source": [
    "# Reload the module to get the latest version\n",
    "import importlib\n",
    "importlib.reload(ad)\n",
    "\n",
    "# Try fixed point iteration with cos(x) starting at x0=1.0\n",
    "root, iterations = ad.Roots.fixed_point(g, 1.0)\n",
    "print(f'\\nRoot: {root}\\nIterations: {iterations}')"
   ]
  },
  {
   "cell_type": "code",
   "execution_count": 7,
   "id": "da2b467d",
   "metadata": {},
   "outputs": [
    {
     "name": "stdout",
     "output_type": "stream",
     "text": [
      "-0.9899924966004454 3.989992496600445\n",
      "0.5486961336030971 1.5386886302035425\n",
      "0.8532053115057471 0.30450917790265\n",
      "0.6575716719440715 0.19563363956167557\n",
      "0.7914787496844161 0.1339070777403446\n",
      "0.7027941118082985 0.08868463787611758\n",
      "0.7630391877968155 0.060245075988516916\n",
      "0.7227389047849776 0.040300283011837856\n",
      "0.7499969196947133 0.027258014909735673\n",
      "0.7316909685258258 0.018305951168887447\n",
      "0.7440456819525395 0.012354713426713682\n",
      "0.7357345682868414 0.008311113665698144\n",
      "0.7413379612461033 0.0056033929592619325\n",
      "0.7375657269232188 0.003772234322884538\n",
      "0.7401077700526905 0.002542043129471705\n",
      "0.7383958863975351 0.0017118836551553995\n",
      "0.7395492425705097 0.0011533561729746289\n",
      "0.7387724239832231 0.0007768185872866207\n",
      "0.7392957417755152 0.0005233177922920884\n",
      "0.7389432483650883 0.00035249341042686844\n",
      "0.7391807011172313 0.0002374527521430414\n",
      "0.739020754151705 0.00015994696552634746\n",
      "0.7391284981950722 0.00010774404336721943\n",
      "0.7390559213481234 7.257684694883526e-05\n",
      "0.7391048103648461 4.8889016722730716e-05\n",
      "0.7390718783073501 3.293205749599348e-05\n",
      "0.7390940618155813 2.218350823124382e-05\n",
      "0.7390791187730537 1.4943042527693073e-05\n",
      "0.7390891846023451 1.0065829291416861e-05\n",
      "0.7390824041459528 6.780456392241341e-06\n",
      "Total Iterations(fix_p):- 30 0.7390824041459528 \n",
      "f(root=) 0.7390869715462552\n",
      "Result type: <class 'tuple'>\n",
      "Result value: (0.7390824041459528, [0, 1, 2, 3, 4, 5, 6, 7, 8, 9, 10, 11, 12, 13, 14, 15, 16, 17, 18, 19, 20, 21, 22, 23, 24, 25, 26, 27, 28, 29])\n"
     ]
    }
   ],
   "source": [
    "# Let's reload the module to make sure we have the latest version\n",
    "import importlib\n",
    "importlib.reload(ad)\n",
    "\n",
    "# Now try the fixed_point method again\n",
    "result = ad.Roots.fixed_point(g, 3)\n",
    "print(f\"Result type: {type(result)}\")\n",
    "print(f\"Result value: {result}\")"
   ]
  }
 ],
 "metadata": {
  "kernelspec": {
   "display_name": ".venv",
   "language": "python",
   "name": "python3"
  },
  "language_info": {
   "codemirror_mode": {
    "name": "ipython",
    "version": 3
   },
   "file_extension": ".py",
   "mimetype": "text/x-python",
   "name": "python",
   "nbconvert_exporter": "python",
   "pygments_lexer": "ipython3",
   "version": "3.13.6"
  }
 },
 "nbformat": 4,
 "nbformat_minor": 5
}
